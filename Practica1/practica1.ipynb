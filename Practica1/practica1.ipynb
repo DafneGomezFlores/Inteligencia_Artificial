{
  "nbformat": 4,
  "nbformat_minor": 0,
  "metadata": {
    "colab": {
      "provenance": []
    },
    "kernelspec": {
      "name": "python3",
      "display_name": "Python 3"
    },
    "language_info": {
      "name": "python"
    }
  },
  "cells": [
    {
      "cell_type": "markdown",
      "source": [
        "IMPORTANCIA DE BIBLIOTECAS Y MONTAJE DE DRIVE\n",
        "Para manipulacion de datos, graficos y calculos numericos.Permite acceder a los archivos almacenados en tu google drive del entorno de colab."
      ],
      "metadata": {
        "id": "sRgHErPYVvN9"
      }
    },
    {
      "cell_type": "code",
      "execution_count": 1,
      "metadata": {
        "id": "_Z1EfPcljPUW"
      },
      "outputs": [],
      "source": [
        "import pandas as pd\n",
        "\n",
        "# utilizado para manejos de directorios y rutas\n",
        "import os\n",
        "\n",
        "# Computacion vectorial y cientifica para python\n",
        "import numpy as np\n",
        "\n",
        "# Librerias para graficación (trazado de gráficos)\n",
        "from matplotlib import pyplot\n",
        "from mpl_toolkits.mplot3d import Axes3D  # Necesario para graficar superficies 3D\n",
        "\n",
        "# llama a matplotlib a embeber graficas dentro de los cuadernillos\n",
        "%matplotlib inline\n"
      ]
    },
    {
      "cell_type": "code",
      "source": [
        "from google.colab import drive\n",
        "drive.mount('/content/drive')"
      ],
      "metadata": {
        "colab": {
          "base_uri": "https://localhost:8080/"
        },
        "id": "lZ3VUe6tVI1w",
        "outputId": "9e02561c-367e-442c-e5ef-8cd0d27be466"
      },
      "execution_count": 2,
      "outputs": [
        {
          "output_type": "stream",
          "name": "stdout",
          "text": [
            "Mounted at /content/drive\n"
          ]
        }
      ]
    },
    {
      "cell_type": "markdown",
      "source": [
        "CARGA DE REPARACION DE DATOS\n",
        "Lee los datos de archivo, separa las caracteristicas (x) de las variables objetivo (y) e imprime las dimensiones."
      ],
      "metadata": {
        "id": "p86_G79TWfqd"
      }
    },
    {
      "cell_type": "code",
      "source": [
        "data = np.genfromtxt('/content/drive/MyDrive/enfermedades_del_corazon (1).csv', delimiter=',', skip_header=1)\n",
        "\n",
        "# Separa las características (X) y la variable objetivo (y)\n",
        "X = data[:, 0:5]  # Columnas 0 a 4 para las características\n",
        "y = data[:, 11]   # Columna 11 para la variable objetivo"
      ],
      "metadata": {
        "id": "dnt5n9qjpGMC"
      },
      "execution_count": 3,
      "outputs": []
    },
    {
      "cell_type": "code",
      "source": [
        "print(X.shape)\n",
        "print(y.shape)\n"
      ],
      "metadata": {
        "colab": {
          "base_uri": "https://localhost:8080/"
        },
        "id": "d-tTdVs7uu6w",
        "outputId": "ac77ba07-c4b8-400d-efd4-918af025093a"
      },
      "execution_count": 4,
      "outputs": [
        {
          "output_type": "stream",
          "name": "stdout",
          "text": [
            "(1190, 5)\n",
            "(1190,)\n"
          ]
        }
      ]
    },
    {
      "cell_type": "code",
      "source": [
        "print(y)"
      ],
      "metadata": {
        "colab": {
          "base_uri": "https://localhost:8080/"
        },
        "id": "OLuSUPceRpWi",
        "outputId": "93a10138-a323-4f35-842a-ac71a1acff3f"
      },
      "execution_count": 5,
      "outputs": [
        {
          "output_type": "stream",
          "name": "stdout",
          "text": [
            "[0. 1. 0. ... 1. 1. 0.]\n"
          ]
        }
      ]
    },
    {
      "cell_type": "code",
      "source": [
        "print(X)"
      ],
      "metadata": {
        "colab": {
          "base_uri": "https://localhost:8080/"
        },
        "id": "XofihabfRtUe",
        "outputId": "d4ca265c-7a9a-4e71-90f1-bc5fb7485398"
      },
      "execution_count": 6,
      "outputs": [
        {
          "output_type": "stream",
          "name": "stdout",
          "text": [
            "[[ 40.   1.   2. 140. 289.]\n",
            " [ 49.   0.   3. 160. 180.]\n",
            " [ 37.   1.   2. 130. 283.]\n",
            " ...\n",
            " [ 57.   1.   4. 130. 131.]\n",
            " [ 57.   0.   2. 130. 236.]\n",
            " [ 38.   1.   3. 138. 175.]]\n"
          ]
        }
      ]
    },
    {
      "cell_type": "markdown",
      "source": [
        "VISUALIZACION DE DATOS\n",
        "Crear una funcion para graficar los datos, mostrando los puntos de dispersion para el evento \"si muere\" y \"no muere\" grafica los datos usando la funcion definida."
      ],
      "metadata": {
        "id": "1BtQs0erXE3G"
      }
    },
    {
      "cell_type": "code",
      "source": [
        "def plotData(X, y):\n",
        "\n",
        "\n",
        "    # Se filtran los datos para las dos clases\n",
        "    DEATH_EVENT = X[y == 0]  # Datos para 'evento de muerte' (y=0)\n",
        "    no_DEATH_EVENT = X[y == 1] # Datos para 'no evento de muerte' (y=1)\n",
        "\n",
        "    # Se grafican los puntos de dispersión para cada clase\n",
        "    pyplot.scatter(DEATH_EVENT[:, 1], DEATH_EVENT[:, 0], marker='*', c='black', label='evento de muerte', s=100)\n",
        "    pyplot.scatter(no_DEATH_EVENT[:, 1], no_DEATH_EVENT[:, 0], marker='o', c='yellow', edgecolor='black', label='No evento de muerte', s=80)\n",
        "\n",
        "    # Se configuran las etiquetas de los ejes y la leyenda\n",
        "    pyplot.xlabel('Creatina')\n",
        "    pyplot.ylabel('faccion de eyeccion')\n",
        "    pyplot.legend()\n",
        "\n",
        "    # Se muestra la gráfica\n",
        "    pyplot.show()"
      ],
      "metadata": {
        "id": "verOp9b2vTRW"
      },
      "execution_count": 7,
      "outputs": []
    },
    {
      "cell_type": "code",
      "source": [
        "plotData(X, y)"
      ],
      "metadata": {
        "colab": {
          "base_uri": "https://localhost:8080/",
          "height": 449
        },
        "id": "tp2UuKb5SSsr",
        "outputId": "ee16656f-a39e-4553-8775-030f34257e73"
      },
      "execution_count": 8,
      "outputs": [
        {
          "output_type": "display_data",
          "data": {
            "text/plain": [
              "<Figure size 640x480 with 1 Axes>"
            ],
            "image/png": "[encoded data removed]"
          },
          "metadata": {}
        }
      ]
    },
    {
      "cell_type": "markdown",
      "source": [
        "NORMALIZACION DE CARACTERISTICAS\n",
        "Ajusta a una escala similar, normaliza las caracteristicas en X utilizando una funcion, muestra la matriz X original, la media, la desviacion estandar y la matriz normalizada."
      ],
      "metadata": {
        "id": "iAfRbLLvX0OK"
      }
    },
    {
      "cell_type": "code",
      "source": [
        "def  featureNormalize(X):\n",
        "    X_norm = X.copy()\n",
        "    mu = np.zeros(X.shape[1])\n",
        "    sigma = np.zeros(X.shape[1])\n",
        "\n",
        "    mu = np.mean(X, axis = 0)\n",
        "    sigma = np.std(X, axis = 0)\n",
        "    X_norm = (X - mu) / sigma\n",
        "\n",
        "    return X_norm, mu, sigma"
      ],
      "metadata": {
        "id": "EvFfkc8ovfnY"
      },
      "execution_count": 9,
      "outputs": []
    },
    {
      "cell_type": "code",
      "source": [
        "X_norm, mu, sigma = featureNormalize(X)\n",
        "\n",
        "print(X)\n",
        "print('Media calculada:', mu)\n",
        "print('Desviación estandar calculada:', sigma)\n",
        "print(X_norm)"
      ],
      "metadata": {
        "id": "XAa3lAe0ylGP",
        "colab": {
          "base_uri": "https://localhost:8080/"
        },
        "outputId": "45422213-fe2d-4800-8985-5b30ae31b28b"
      },
      "execution_count": 10,
      "outputs": [
        {
          "output_type": "stream",
          "name": "stdout",
          "text": [
            "[[ 40.   1.   2. 140. 289.]\n",
            " [ 49.   0.   3. 160. 180.]\n",
            " [ 37.   1.   2. 130. 283.]\n",
            " ...\n",
            " [ 57.   1.   4. 130. 131.]\n",
            " [ 57.   0.   2. 130. 236.]\n",
            " [ 38.   1.   3. 138. 175.]]\n",
            "Media calculada: [ 53.72016807   0.76386555   3.23277311 132.15378151 210.36386555]\n",
            "Desviación estandar calculada: [  9.35426995   0.42470575   0.93508722  18.3611038  101.37786644]\n",
            "[[-1.46672783  0.55599543 -1.31835093  0.42732826  0.7756736 ]\n",
            " [-0.50460037 -1.79857595 -0.24893198  1.51658739 -0.29951178]\n",
            " [-1.78743698  0.55599543 -1.31835093 -0.11730131  0.71648908]\n",
            " ...\n",
            " [ 0.35062404  0.55599543  0.82048698 -0.11730131 -0.782852  ]\n",
            " [ 0.35062404 -1.79857595 -1.31835093 -0.11730131  0.25287704]\n",
            " [-1.68053393  0.55599543 -0.24893198  0.31840234 -0.34883221]]\n"
          ]
        }
      ]
    },
    {
      "cell_type": "markdown",
      "source": [
        "FUNCION SIGMOIDE\n",
        "Crea y calcula la funcion sigmoide, que se utiliza en la regresion logistica, llama algunos valores de prueba e imprime los resultados."
      ],
      "metadata": {
        "id": "cP87LnUvYkRp"
      }
    },
    {
      "cell_type": "code",
      "source": [
        "def sigmoid(z):\n",
        "    # Calcula la sigmoide de una entrada z\n",
        "    # convierte la intrada a un arreglo numpy\n",
        "    z = np.array(z)\n",
        "\n",
        "    g = np.zeros(z.shape)\n",
        "\n",
        "    g = 1 / (1 + np.exp(-z))\n",
        "\n",
        "    return g"
      ],
      "metadata": {
        "id": "GL_ecWpqy8hE"
      },
      "execution_count": 11,
      "outputs": []
    },
    {
      "cell_type": "code",
      "source": [
        "# Prueba la implementacion de la funcion sigmoid\n",
        "z = [-100, 0.5, 1000000]\n",
        "g = sigmoid(z)\n",
        "\n",
        "print('g(', z, ') = ', g)"
      ],
      "metadata": {
        "id": "XQRliLOcznzM",
        "colab": {
          "base_uri": "https://localhost:8080/"
        },
        "outputId": "cf3027ea-e9bd-4b3d-d6f9-9204ee31d9c5"
      },
      "execution_count": 12,
      "outputs": [
        {
          "output_type": "stream",
          "name": "stdout",
          "text": [
            "g( [-100, 0.5, 1000000] ) =  [3.72007598e-44 6.22459331e-01 1.00000000e+00]\n"
          ]
        }
      ]
    },
    {
      "cell_type": "markdown",
      "source": [
        "PREPARACION PARA EL DESCENSO POR EL GRADIENTE\n",
        "Obtiene el numero de filas(m) y columnas (n) y agrega una columna de unos a X para representar el termino de interseccion en la regresion logistica."
      ],
      "metadata": {
        "id": "VjUnf1DAZMDl"
      }
    },
    {
      "cell_type": "code",
      "source": [
        "# Configurar la matriz adecuadamente, y agregar una columna de unos que corresponde al termino de intercepción.\n",
        "m, n = X.shape\n",
        "# Agraga el termino de intercepción a A\n",
        "X = np.concatenate([np.ones((m, 1)), X_norm], axis=1)"
      ],
      "metadata": {
        "id": "G0JpXBt0z4hE"
      },
      "execution_count": 13,
      "outputs": []
    },
    {
      "cell_type": "markdown",
      "source": [
        "FUNCION DE COSTO Y DESCENSO POR EL GRADIENTE\n",
        "Crea la funcion para calcular el costo de la regresion logistica, funcion para realizar el descenso por el gradiente, actualizando los parametros theta para minimizar el costo y grafica la convergencia del costo, calculo vectorial."
      ],
      "metadata": {
        "id": "iGF45ZWXZu-n"
      }
    },
    {
      "cell_type": "code",
      "source": [
        "def calcularCosto(theta, X, y):\n",
        "    # Inicializar algunos valores utiles\n",
        "    m = y.size  # numero de ejemplos de entrenamiento\n",
        "\n",
        "    J = 0\n",
        "    h = sigmoid(X.dot(theta.T))\n",
        "    J = (1 / m) * np.sum(-y.dot(np.log(h)) - (1 - y).dot(np.log(1 - h)))\n",
        "\n",
        "    return J"
      ],
      "metadata": {
        "id": "OaeZwIS40MrK"
      },
      "execution_count": 14,
      "outputs": []
    },
    {
      "cell_type": "code",
      "source": [
        "def descensoGradiente(theta, X, y, alpha, num_iters):\n",
        "    # Inicializa algunos valores\n",
        "    m = y.shape[0] # numero de ejemplos de entrenamiento\n",
        "\n",
        "    # realiza una copia de theta, el cual será acutalizada por el descenso por el gradiente\n",
        "    theta = theta.copy()\n",
        "    J_history = []\n",
        "\n",
        "    for i in range(num_iters):\n",
        "        h = sigmoid(X.dot(theta.T))\n",
        "        theta = theta - (alpha / m) * (h - y).dot(X)\n",
        "\n",
        "        J_history.append(calcularCosto(theta, X, y))\n",
        "    return theta, J_history"
      ],
      "metadata": {
        "id": "9-94HZE-0dZD"
      },
      "execution_count": 15,
      "outputs": []
    },
    {
      "cell_type": "code",
      "source": [
        "# Elegir algun valor para alpha (probar varias alternativas)\n",
        "alpha = 0.01\n",
        "num_iters = 10000\n",
        "\n",
        "# inicializa theta y ejecuta el descenso por el gradiente\n",
        "theta = np.zeros(6)\n",
        "theta, J_history = descensoGradiente(theta, X, y, alpha, num_iters)\n",
        "\n",
        "# Grafica la convergencia del costo\n",
        "pyplot.plot(np.arange(len(J_history)), J_history, lw=2)\n",
        "pyplot.xlabel('Numero de iteraciones')\n",
        "pyplot.ylabel('Costo J')\n",
        "\n",
        "# Muestra los resultados del descenso por el gradiente\n",
        "print('theta calculado por el descenso por el gradiente: {:s}'.format(str(theta)))\n",
        "\n",
        "# verificar si ingresa o no a la universidad\n",
        "X_array = [0.03,0.05, 0.03, 0.034,0.01,0.047]\n",
        "aprueba = sigmoid(np.dot(X_array, theta))   # Se debe cambiar esto\n",
        "\n",
        "print(' (usando el descenso por el gradiente):{:.0f}'.format(aprueba))"
      ],
      "metadata": {
        "id": "e5HSxxL92W9P",
        "colab": {
          "base_uri": "https://localhost:8080/",
          "height": 487
        },
        "outputId": "d57597dd-cd1c-43e0-85a9-137a38ed0bcd"
      },
      "execution_count": 16,
      "outputs": [
        {
          "output_type": "stream",
          "name": "stdout",
          "text": [
            "theta calculado por el descenso por el gradiente: [ 0.084474    0.50820196  0.65343577  1.04224192  0.24862043 -0.29666816]\n",
            " (usando el descenso por el gradiente):1\n"
          ]
        },
        {
          "output_type": "display_data",
          "data": {
            "text/plain": [
              "<Figure size 640x480 with 1 Axes>"
            ],
            "image/png": "[encoded data removed]"
          },
          "metadata": {}
        }
      ]
    },
    {
      "cell_type": "markdown",
      "source": [
        "PREDICCIONES Utiliza los parametros theta calculados para predecir la probabilidad de evento de muertes y muetra la prediccion."
      ],
      "metadata": {
        "id": "i_uOjkmjacNx"
      }
    },
    {
      "cell_type": "code",
      "source": [
        "X_array = [0.05, 0.03, 0.034,0.01,0.047,0.7]\n",
        "y_predicted = sigmoid(np.dot(X_array, theta))\n",
        "print('evento de muerte -> :{:.0f}'.format(y_predicted))"
      ],
      "metadata": {
        "colab": {
          "base_uri": "https://localhost:8080/"
        },
        "id": "lVOeQ3HI2eJ8",
        "outputId": "5ae84481-aba4-4747-cfbf-2008ac32ceb1"
      },
      "execution_count": 17,
      "outputs": [
        {
          "output_type": "stream",
          "name": "stdout",
          "text": [
            "evento de muerte -> :0\n"
          ]
        }
      ]
    },
    {
      "cell_type": "code",
      "source": [
        "plotData(X[:, 1:3], y)\n",
        "pyplot.plot(X[:, 1], theta[0] + X[:, 1] * theta[1], '-')\n",
        "#pyplot.legend(['Datos de entrenamiento', 'Regresión lineal'])\n",
        "pyplot.legend(['Admitido', 'No admitido', 'Limite de decisión'])"
      ],
      "metadata": {
        "colab": {
          "base_uri": "https://localhost:8080/",
          "height": 879
        },
        "id": "2QWQ2gT635UZ",
        "outputId": "006ed830-19d0-45f9-83ba-13a822a109f9"
      },
      "execution_count": 18,
      "outputs": [
        {
          "output_type": "display_data",
          "data": {
            "text/plain": [
              "<Figure size 640x480 with 1 Axes>"
            ],
            "image/png": "[encoded data removed]"
          },
          "metadata": {}
        },
        {
          "output_type": "execute_result",
          "data": {
            "text/plain": [
              "<matplotlib.legend.Legend at 0x7d116d7ef490>"
            ]
          },
          "metadata": {},
          "execution_count": 18
        },
        {
          "output_type": "display_data",
          "data": {
            "text/plain": [
              "<Figure size 640x480 with 1 Axes>"
            ],
            "image/png": "[encoded data removed]"
          },
          "metadata": {}
        }
      ]
    },
    {
      "cell_type": "markdown",
      "source": [
        "FUNCION DE COSTO Y GRADIENTE(VECTORIZADA)\n",
        "Calcula el costo y el gradiente de la redresion logistica y con diferentes valores de theta e imprime los resultados, comparandolos con los valores esperados."
      ],
      "metadata": {
        "id": "9ExVQvjVa2pt"
      }
    },
    {
      "cell_type": "code",
      "source": [
        "def costFunction(theta, X, y):\n",
        "    # Inicializar algunos valores utiles\n",
        "    m = y.size  # numero de ejemplos de entrenamiento\n",
        "\n",
        "    J = 0\n",
        "    grad = np.zeros(theta.shape)\n",
        "\n",
        "    h = sigmoid(X.dot(theta.T))\n",
        "\n",
        "    J = (1 / m) * np.sum(-y.dot(np.log(h)) - (1 - y).dot(np.log(1 - h)))\n",
        "    grad = (1 / m) * (h - y).dot(X)\n",
        "\n",
        "    return J, grad"
      ],
      "metadata": {
        "id": "w1CyMCZAlwUw"
      },
      "execution_count": 19,
      "outputs": []
    },
    {
      "cell_type": "code",
      "source": [
        "# Inicializacion de parametros de ajuste\n",
        "initial_theta = np.zeros(n+1)\n",
        "print(initial_theta)\n",
        "cost, grad = costFunction(initial_theta, X, y)\n",
        "\n",
        "print('Costo en theta inicial (zeros): {:.3f}'.format(cost))\n",
        "print('Costo esperado (aproximado): 0.693\\n')\n",
        "print(grad)\n",
        "print('Gradiente en theta inicial (zeros):')\n",
        "print('\\t[{:.4f}, {:.4f}, {:.4f}]'.format(*grad))\n",
        "print('Gradiente esperado (aproximado):\\n\\t[-0.1000, -12.0092, -11.2628]\\n')"
      ],
      "metadata": {
        "id": "dQE2D7xsrAKJ",
        "colab": {
          "base_uri": "https://localhost:8080/"
        },
        "outputId": "740022f4-8f17-4c9f-ac57-c102a25a89e4"
      },
      "execution_count": 20,
      "outputs": [
        {
          "output_type": "stream",
          "name": "stdout",
          "text": [
            "[0. 0. 0. 0. 0. 0.]\n",
            "Costo en theta inicial (zeros): 0.693\n",
            "Costo esperado (aproximado): 0.693\n",
            "\n",
            "[-0.02857143 -0.13080031 -0.1553791  -0.22968757 -0.06060818  0.0990211 ]\n",
            "Gradiente en theta inicial (zeros):\n",
            "\t[-0.0286, -0.1308, -0.1554]\n",
            "Gradiente esperado (aproximado):\n",
            "\t[-0.1000, -12.0092, -11.2628]\n",
            "\n"
          ]
        }
      ]
    },
    {
      "cell_type": "code",
      "source": [
        "# Calcula y muestra el costo y el gradiente con valores de theta diferentes a cero\n",
        "\n",
        "test_theta = np.array([-24, 0.2, 0.2,0.56,0.1,0.23])\n",
        "#test_theta = np.array([-11.74749157, 0.09927308, 0.09316497])\n",
        "print(test_theta)\n",
        "cost, grad = costFunction(test_theta, X, y)\n",
        "\n",
        "print('Costo en theta prueba: {:.3f}'.format(cost))\n",
        "print('Costo esperado (aproximado): 0.218\\n')\n",
        "\n",
        "print('Gradiente en theta prueba:')\n",
        "print('\\t[{:.3f}, {:.3f}, {:.3f}]'.format(*grad))\n",
        "print('Gradiente esperado (aproximado):\\n\\t[0.043, 2.566, 2.647]')"
      ],
      "metadata": {
        "id": "3MS8z1ygrHHC",
        "colab": {
          "base_uri": "https://localhost:8080/"
        },
        "outputId": "1a1fc0c0-f511-4eb4-d1a6-57e11591b3a5"
      },
      "execution_count": 21,
      "outputs": [
        {
          "output_type": "stream",
          "name": "stdout",
          "text": [
            "[-24.     0.2    0.2    0.56   0.1    0.23]\n",
            "Costo en theta prueba: 12.517\n",
            "Costo esperado (aproximado): 0.218\n",
            "\n",
            "Gradiente en theta prueba:\n",
            "\t[-0.529, -0.131, -0.155]\n",
            "Gradiente esperado (aproximado):\n",
            "\t[0.043, 2.566, 2.647]\n"
          ]
        }
      ]
    },
    {
      "cell_type": "markdown",
      "source": [
        "OPTIMIZACION\n",
        "Utiliza la funcion para encontrar los parametros theta optimos que minimicen el costo y muetra el costo final y los parametros theta optimizados."
      ],
      "metadata": {
        "id": "9_jcsq_QbcRU"
      }
    },
    {
      "cell_type": "code",
      "source": [
        "from scipy import optimize\n",
        "# Establecer las opciones para optimize.minimize\n",
        "options= {'maxiter': 1000}\n",
        "\n",
        "# revisar la documentacion de scipy's optimize.minimize para mayor descripcion de los parametros\n",
        "# La funcion devuekve un objeto `OptimizeResult`\n",
        "# Se utiliza el algoritmo de Newton truncado para la optimización.\n",
        "res = optimize.minimize(costFunction,\n",
        "                        initial_theta,\n",
        "                        (X, y),\n",
        "                        jac=True,\n",
        "                        method='TNC',\n",
        "                        options=options)\n",
        "\n",
        "# la propiedad fun del objeto devuelto por `OptimizeResult`\n",
        "# contiene el valor del costFunction de un theta optimizado\n",
        "cost = res.fun\n",
        "\n",
        "# Theta optimizada esta en la propiedad x\n",
        "theta = res.x\n",
        "\n",
        "# Imprimir theta en la pantalla\n",
        "print('Costo con un valor de theta encontrado por optimize.minimize: {:.3f}'.format(cost))\n",
        "print('Costo esperado (aproximado): 0.203\\n')\n",
        "\n",
        "print('theta:')\n",
        "print('\\t[{:.3f}, {:.3f}, {:.3f}]'.format(*theta))\n",
        "print('Theta esperado (aproximado):\\n\\t[-25.161, 0.206, 0.201]')"
      ],
      "metadata": {
        "id": "cHLWoj2-rNu0",
        "colab": {
          "base_uri": "https://localhost:8080/"
        },
        "outputId": "3817819e-8b5c-4eb0-960f-6181925456ab"
      },
      "execution_count": 22,
      "outputs": [
        {
          "output_type": "stream",
          "name": "stdout",
          "text": [
            "Costo con un valor de theta encontrado por optimize.minimize: 0.501\n",
            "Costo esperado (aproximado): 0.203\n",
            "\n",
            "theta:\n",
            "\t[0.084, 0.508, 0.653]\n",
            "Theta esperado (aproximado):\n",
            "\t[-25.161, 0.206, 0.201]\n"
          ]
        },
        {
          "output_type": "stream",
          "name": "stderr",
          "text": [
            "<ipython-input-22-9320978f03ab>:8: OptimizeWarning: Unknown solver options: maxiter\n",
            "  res = optimize.minimize(costFunction,\n"
          ]
        }
      ]
    },
    {
      "cell_type": "markdown",
      "source": [
        "FUNCION\n",
        "Simplimente devuelve las caracteristicas originales sin modificaciones."
      ],
      "metadata": {
        "id": "uzqkRrlnb9ZK"
      }
    },
    {
      "cell_type": "code",
      "source": [
        "def mapFeature(X1, X2):\n",
        "    \"\"\"\n",
        "    Devuelve las características originales sin modificaciones.\n",
        "    \"\"\"\n",
        "    return np.array([X1, X2])"
      ],
      "metadata": {
        "id": "dqyoqMxxUREW"
      },
      "execution_count": 23,
      "outputs": []
    },
    {
      "cell_type": "markdown",
      "source": [
        "FUNCION Crear funcion para graficar el limite de decision de la regresion logistica junto con los datos."
      ],
      "metadata": {
        "id": "BKUMIbDycSUI"
      }
    },
    {
      "cell_type": "code",
      "source": [
        "def plotDecisionBoundary(plotData, theta, X, y):\n",
        "\n",
        "    # hacer que theta sera un arreglo numpy\n",
        "    theta = np.array(theta)\n",
        "\n",
        "    # Graficar los datos (recordar que la primera columna en X es la intercepción)\n",
        "    plotData(X[:, 1:3], y)\n",
        "\n",
        "    if X.shape[1] <= 3:\n",
        "        # Solo se requieren 2 puntos para definir una linea, para lo cual se eligen dos puntos finales\n",
        "        plot_x = np.array([np.min(X[:, 1]) - 2, np.max(X[:, 1]) + 2])\n",
        "\n",
        "        # Calcular la línea límite de decisión\n",
        "        plot_y = (-1. / theta[2]) * (theta[1] * plot_x + theta[0])\n",
        "\n",
        "        print(plot_x)\n",
        "        print(plot_y)\n",
        "        # Graficar y ajustar los ejes para una mejor visualización\n",
        "        pyplot.plot(plot_x, plot_y)\n",
        "\n",
        "        # Leyenda, especifica para el ejercicio\n",
        "        pyplot.legend(['Admitido', 'No admitido', 'Limite de decisión'])\n",
        "        pyplot.xlim([30, 100])\n",
        "        pyplot.ylim([30, 100])\n",
        "    else:\n",
        "        # Rango de la grilla\n",
        "        u = np.linspace(-1, 1.5, 50)\n",
        "        v = np.linspace(-1, 1.5, 50)\n",
        "\n",
        "        z = np.zeros((u.size, v.size))\n",
        "        # Evalua z = theta*x sobre la grilla\n",
        "        for i, ui in enumerate(u):\n",
        "            for j, vj in enumerate(v):\n",
        "                z[i, j] = np.dot(mapFeature(ui, vj), theta)\n",
        "\n",
        "        z = z.T  # importante transponer z antes de llamar al contorno\n",
        "        # print(z)\n",
        "\n",
        "        # Plot z = 0\n",
        "        pyplot.contour(u, v, z, levels=[0], linewidths=2, colors='g')\n",
        "        pyplot.contourf(u, v, z, levels=[np.min(z), 0, np.max(z)], cmap='Greens', alpha=0.4)\n"
      ],
      "metadata": {
        "id": "D53RbSMDdcC8"
      },
      "execution_count": 24,
      "outputs": []
    },
    {
      "cell_type": "markdown",
      "source": [
        "FUNCION Crea una funcion para predecir la clase (0 y 1) utilizando los parametros theta y un umbral 0.5 y calcula la precision en el conjunto de entrenamiento y calcula la precision del modelo."
      ],
      "metadata": {
        "id": "N8ZSLzyjcqca"
      }
    },
    {
      "cell_type": "code",
      "source": [
        "def predict(theta, X):\n",
        "\n",
        "    m = X.shape[0] # Numero de ejemplo de entrenamiento\n",
        "\n",
        "    p = np.zeros(m)\n",
        "\n",
        "    p = np.round(sigmoid(X.dot(theta.T)))\n",
        "    return p"
      ],
      "metadata": {
        "id": "qMLOL2qidsL9"
      },
      "execution_count": 25,
      "outputs": []
    },
    {
      "cell_type": "code",
      "source": [
        "# Predecir la probabilidad de un evento de muerte para un paciente con valores específicos\n",
        "\n",
        "# Crea un array con los valores del paciente (incluyendo el 1 para el término de intersección)\n",
        "paciente_ejemplo = np.array([1, 0.3, 2, 1, 0, 0.9])\n",
        "\n",
        "# Calcula la probabilidad usando la función sigmoide y los parámetros theta\n",
        "prob_evento_muerte = sigmoid(np.dot(paciente_ejemplo, theta))\n",
        "\n",
        "# Imprime la probabilidad\n",
        "print('Para un paciente con los valores dados, la probabilidad de un evento de muerte es: {:.3f}%'.format(prob_evento_muerte * 100))\n",
        "\n",
        "\n",
        "# Calcula la precisión en el conjunto de entrenamiento\n",
        "p = predict(theta, X)\n",
        "precision = np.mean(p == y) * 100\n",
        "print('Precisión del modelo en el conjunto de entrenamiento: {:.2f}%'.format(precision))"
      ],
      "metadata": {
        "id": "ohJ-_acSdxx7",
        "colab": {
          "base_uri": "https://localhost:8080/"
        },
        "outputId": "0ebafd0e-c3f8-437a-f2db-8af9c13abfcb"
      },
      "execution_count": 26,
      "outputs": [
        {
          "output_type": "stream",
          "name": "stdout",
          "text": [
            "Para un paciente con los valores dados, la probabilidad de un evento de muerte es: 91.044%\n",
            "Precisión del modelo en el conjunto de entrenamiento: 77.39%\n"
          ]
        }
      ]
    }
  ]
}