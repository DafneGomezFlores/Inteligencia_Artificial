{
  "cells": [
    {
      "cell_type": "markdown",
      "source": [
        "IMPORTAR LIBREARIAS Y CARGAR DATOS\n",
        "Se importa las bibliotecas necesarias para el analisis,acceder a Google Drive y obtener archivos almacenados."
      ],
      "metadata": {
        "id": "oiV2FIUq0b_J"
      }
    },
    {
      "cell_type": "code",
      "execution_count": 6,
      "metadata": {
        "id": "f0WGMMljlHQz"
      },
      "outputs": [],
      "source": [
        "# utilizado para manejos de directorios y rutas\n",
        "import os\n",
        "\n",
        "# Computacion vectorial y cientifica para python\n",
        "import numpy as np\n",
        "\n",
        "# importamos la libreria de pandas\n",
        "import pandas as pd\n",
        "\n",
        "# Librerias para graficación (trazado de gráficos)\n",
        "from matplotlib import pyplot\n",
        "from mpl_toolkits.mplot3d import Axes3D  # Necesario para graficar superficies 3D\n",
        "\n",
        "# llama a matplotlib a embeber graficas dentro de los cuadernillos\n",
        "%matplotlib inline"
      ]
    },
    {
      "cell_type": "code",
      "execution_count": 7,
      "metadata": {
        "colab": {
          "base_uri": "https://localhost:8080/"
        },
        "id": "LhERtghFlVGr",
        "outputId": "c145a620-e855-42ca-ddbd-1c84d087dfa9"
      },
      "outputs": [
        {
          "output_type": "stream",
          "name": "stdout",
          "text": [
            "Drive already mounted at /content/gdrive; to attempt to forcibly remount, call drive.mount(\"/content/gdrive\", force_remount=True).\n"
          ]
        }
      ],
      "source": [
        "from google.colab import drive\n",
        "drive.mount(\"/content/gdrive\")"
      ]
    },
    {
      "cell_type": "code",
      "execution_count": 8,
      "metadata": {
        "colab": {
          "base_uri": "https://localhost:8080/",
          "height": 226
        },
        "id": "ff9MOqlc2i_7",
        "outputId": "9f212b5f-a456-4758-c65f-476ef3de679a"
      },
      "outputs": [
        {
          "output_type": "execute_result",
          "data": {
            "text/plain": [
              "   edad  sexo  tipo_dolor_pecho  presion_reposo  colesterol  sangre_ayunas  \\\n",
              "0    40     1                 2             140         289              0   \n",
              "1    49     0                 3             160         180              0   \n",
              "2    37     1                 2             130         283              0   \n",
              "3    48     0                 4             138         214              0   \n",
              "4    54     1                 3             150         195              0   \n",
              "\n",
              "   descansando  frecuencia_cardiaca_max  angina_inducida_por_ejercicio  \\\n",
              "0            0                      172                              0   \n",
              "1            0                      156                              0   \n",
              "2            1                       98                              0   \n",
              "3            0                      108                              1   \n",
              "4            0                      122                              0   \n",
              "\n",
              "   viejo_pico  pendiente_st  objetivo  \n",
              "0         0.0             1         0  \n",
              "1         1.0             2         1  \n",
              "2         0.0             1         0  \n",
              "3         1.5             2         1  \n",
              "4         0.0             1         0  "
            ],
            "text/html": [
              "\n",
              "  <div id=\"df-73bc8c09-de94-41df-82b5-1eced377f86b\" class=\"colab-df-container\">\n",
              "    <div>\n",
              "<style scoped>\n",
              "    .dataframe tbody tr th:only-of-type {\n",
              "        vertical-align: middle;\n",
              "    }\n",
              "\n",
              "    .dataframe tbody tr th {\n",
              "        vertical-align: top;\n",
              "    }\n",
              "\n",
              "    .dataframe thead th {\n",
              "        text-align: right;\n",
              "    }\n",
              "</style>\n",
              "<table border=\"1\" class=\"dataframe\">\n",
              "  <thead>\n",
              "    <tr style=\"text-align: right;\">\n",
              "      <th></th>\n",
              "      <th>edad</th>\n",
              "      <th>sexo</th>\n",
              "      <th>tipo_dolor_pecho</th>\n",
              "      <th>presion_reposo</th>\n",
              "      <th>colesterol</th>\n",
              "      <th>sangre_ayunas</th>\n",
              "      <th>descansando</th>\n",
              "      <th>frecuencia_cardiaca_max</th>\n",
              "      <th>angina_inducida_por_ejercicio</th>\n",
              "      <th>viejo_pico</th>\n",
              "      <th>pendiente_st</th>\n",
              "      <th>objetivo</th>\n",
              "    </tr>\n",
              "  </thead>\n",
              "  <tbody>\n",
              "    <tr>\n",
              "      <th>0</th>\n",
              "      <td>40</td>\n",
              "      <td>1</td>\n",
              "      <td>2</td>\n",
              "      <td>140</td>\n",
              "      <td>289</td>\n",
              "      <td>0</td>\n",
              "      <td>0</td>\n",
              "      <td>172</td>\n",
              "      <td>0</td>\n",
              "      <td>0.0</td>\n",
              "      <td>1</td>\n",
              "      <td>0</td>\n",
              "    </tr>\n",
              "    <tr>\n",
              "      <th>1</th>\n",
              "      <td>49</td>\n",
              "      <td>0</td>\n",
              "      <td>3</td>\n",
              "      <td>160</td>\n",
              "      <td>180</td>\n",
              "      <td>0</td>\n",
              "      <td>0</td>\n",
              "      <td>156</td>\n",
              "      <td>0</td>\n",
              "      <td>1.0</td>\n",
              "      <td>2</td>\n",
              "      <td>1</td>\n",
              "    </tr>\n",
              "    <tr>\n",
              "      <th>2</th>\n",
              "      <td>37</td>\n",
              "      <td>1</td>\n",
              "      <td>2</td>\n",
              "      <td>130</td>\n",
              "      <td>283</td>\n",
              "      <td>0</td>\n",
              "      <td>1</td>\n",
              "      <td>98</td>\n",
              "      <td>0</td>\n",
              "      <td>0.0</td>\n",
              "      <td>1</td>\n",
              "      <td>0</td>\n",
              "    </tr>\n",
              "    <tr>\n",
              "      <th>3</th>\n",
              "      <td>48</td>\n",
              "      <td>0</td>\n",
              "      <td>4</td>\n",
              "      <td>138</td>\n",
              "      <td>214</td>\n",
              "      <td>0</td>\n",
              "      <td>0</td>\n",
              "      <td>108</td>\n",
              "      <td>1</td>\n",
              "      <td>1.5</td>\n",
              "      <td>2</td>\n",
              "      <td>1</td>\n",
              "    </tr>\n",
              "    <tr>\n",
              "      <th>4</th>\n",
              "      <td>54</td>\n",
              "      <td>1</td>\n",
              "      <td>3</td>\n",
              "      <td>150</td>\n",
              "      <td>195</td>\n",
              "      <td>0</td>\n",
              "      <td>0</td>\n",
              "      <td>122</td>\n",
              "      <td>0</td>\n",
              "      <td>0.0</td>\n",
              "      <td>1</td>\n",
              "      <td>0</td>\n",
              "    </tr>\n",
              "  </tbody>\n",
              "</table>\n",
              "</div>\n",
              "    <div class=\"colab-df-buttons\">\n",
              "\n",
              "  <div class=\"colab-df-container\">\n",
              "    <button class=\"colab-df-convert\" onclick=\"convertToInteractive('df-73bc8c09-de94-41df-82b5-1eced377f86b')\"\n",
              "            title=\"Convert this dataframe to an interactive table.\"\n",
              "            style=\"display:none;\">\n",
              "\n",
              "  <svg xmlns=\"http://www.w3.org/2000/svg\" height=\"24px\" viewBox=\"0 -960 960 960\">\n",
              "    <path d=\"M120-120v-720h720v720H120Zm60-500h600v-160H180v160Zm220 220h160v-160H400v160Zm0 220h160v-160H400v160ZM180-400h160v-160H180v160Zm440 0h160v-160H620v160ZM180-180h160v-160H180v160Zm440 0h160v-160H620v160Z\"/>\n",
              "  </svg>\n",
              "    </button>\n",
              "\n",
              "  <style>\n",
              "    .colab-df-container {\n",
              "      display:flex;\n",
              "      gap: 12px;\n",
              "    }\n",
              "\n",
              "    .colab-df-convert {\n",
              "      background-color: #E8F0FE;\n",
              "      border: none;\n",
              "      border-radius: 50%;\n",
              "      cursor: pointer;\n",
              "      display: none;\n",
              "      fill: #1967D2;\n",
              "      height: 32px;\n",
              "      padding: 0 0 0 0;\n",
              "      width: 32px;\n",
              "    }\n",
              "\n",
              "    .colab-df-convert:hover {\n",
              "      background-color: #E2EBFA;\n",
              "      box-shadow: 0px 1px 2px rgba(60, 64, 67, 0.3), 0px 1px 3px 1px rgba(60, 64, 67, 0.15);\n",
              "      fill: #174EA6;\n",
              "    }\n",
              "\n",
              "    .colab-df-buttons div {\n",
              "      margin-bottom: 4px;\n",
              "    }\n",
              "\n",
              "    [theme=dark] .colab-df-convert {\n",
              "      background-color: #3B4455;\n",
              "      fill: #D2E3FC;\n",
              "    }\n",
              "\n",
              "    [theme=dark] .colab-df-convert:hover {\n",
              "      background-color: #434B5C;\n",
              "      box-shadow: 0px 1px 3px 1px rgba(0, 0, 0, 0.15);\n",
              "      filter: drop-shadow(0px 1px 2px rgba(0, 0, 0, 0.3));\n",
              "      fill: #FFFFFF;\n",
              "    }\n",
              "  </style>\n",
              "\n",
              "    <script>\n",
              "      const buttonEl =\n",
              "        document.querySelector('#df-73bc8c09-de94-41df-82b5-1eced377f86b button.colab-df-convert');\n",
              "      buttonEl.style.display =\n",
              "        google.colab.kernel.accessAllowed ? 'block' : 'none';\n",
              "\n",
              "      async function convertToInteractive(key) {\n",
              "        const element = document.querySelector('#df-73bc8c09-de94-41df-82b5-1eced377f86b');\n",
              "        const dataTable =\n",
              "          await google.colab.kernel.invokeFunction('convertToInteractive',\n",
              "                                                    [key], {});\n",
              "        if (!dataTable) return;\n",
              "\n",
              "        const docLinkHtml = 'Like what you see? Visit the ' +\n",
              "          '<a target=\"_blank\" href=https://colab.research.google.com/notebooks/data_table.ipynb>data table notebook</a>'\n",
              "          + ' to learn more about interactive tables.';\n",
              "        element.innerHTML = '';\n",
              "        dataTable['output_type'] = 'display_data';\n",
              "        await google.colab.output.renderOutput(dataTable, element);\n",
              "        const docLink = document.createElement('div');\n",
              "        docLink.innerHTML = docLinkHtml;\n",
              "        element.appendChild(docLink);\n",
              "      }\n",
              "    </script>\n",
              "  </div>\n",
              "\n",
              "\n",
              "<div id=\"df-ab52316f-9ea4-413d-b607-6c13106c6032\">\n",
              "  <button class=\"colab-df-quickchart\" onclick=\"quickchart('df-ab52316f-9ea4-413d-b607-6c13106c6032')\"\n",
              "            title=\"Suggest charts\"\n",
              "            style=\"display:none;\">\n",
              "\n",
              "<svg xmlns=\"http://www.w3.org/2000/svg\" height=\"24px\"viewBox=\"0 0 24 24\"\n",
              "     width=\"24px\">\n",
              "    <g>\n",
              "        <path d=\"M19 3H5c-1.1 0-2 .9-2 2v14c0 1.1.9 2 2 2h14c1.1 0 2-.9 2-2V5c0-1.1-.9-2-2-2zM9 17H7v-7h2v7zm4 0h-2V7h2v10zm4 0h-2v-4h2v4z\"/>\n",
              "    </g>\n",
              "</svg>\n",
              "  </button>\n",
              "\n",
              "<style>\n",
              "  .colab-df-quickchart {\n",
              "      --bg-color: #E8F0FE;\n",
              "      --fill-color: #1967D2;\n",
              "      --hover-bg-color: #E2EBFA;\n",
              "      --hover-fill-color: #174EA6;\n",
              "      --disabled-fill-color: #AAA;\n",
              "      --disabled-bg-color: #DDD;\n",
              "  }\n",
              "\n",
              "  [theme=dark] .colab-df-quickchart {\n",
              "      --bg-color: #3B4455;\n",
              "      --fill-color: #D2E3FC;\n",
              "      --hover-bg-color: #434B5C;\n",
              "      --hover-fill-color: #FFFFFF;\n",
              "      --disabled-bg-color: #3B4455;\n",
              "      --disabled-fill-color: #666;\n",
              "  }\n",
              "\n",
              "  .colab-df-quickchart {\n",
              "    background-color: var(--bg-color);\n",
              "    border: none;\n",
              "    border-radius: 50%;\n",
              "    cursor: pointer;\n",
              "    display: none;\n",
              "    fill: var(--fill-color);\n",
              "    height: 32px;\n",
              "    padding: 0;\n",
              "    width: 32px;\n",
              "  }\n",
              "\n",
              "  .colab-df-quickchart:hover {\n",
              "    background-color: var(--hover-bg-color);\n",
              "    box-shadow: 0 1px 2px rgba(60, 64, 67, 0.3), 0 1px 3px 1px rgba(60, 64, 67, 0.15);\n",
              "    fill: var(--button-hover-fill-color);\n",
              "  }\n",
              "\n",
              "  .colab-df-quickchart-complete:disabled,\n",
              "  .colab-df-quickchart-complete:disabled:hover {\n",
              "    background-color: var(--disabled-bg-color);\n",
              "    fill: var(--disabled-fill-color);\n",
              "    box-shadow: none;\n",
              "  }\n",
              "\n",
              "  .colab-df-spinner {\n",
              "    border: 2px solid var(--fill-color);\n",
              "    border-color: transparent;\n",
              "    border-bottom-color: var(--fill-color);\n",
              "    animation:\n",
              "      spin 1s steps(1) infinite;\n",
              "  }\n",
              "\n",
              "  @keyframes spin {\n",
              "    0% {\n",
              "      border-color: transparent;\n",
              "      border-bottom-color: var(--fill-color);\n",
              "      border-left-color: var(--fill-color);\n",
              "    }\n",
              "    20% {\n",
              "      border-color: transparent;\n",
              "      border-left-color: var(--fill-color);\n",
              "      border-top-color: var(--fill-color);\n",
              "    }\n",
              "    30% {\n",
              "      border-color: transparent;\n",
              "      border-left-color: var(--fill-color);\n",
              "      border-top-color: var(--fill-color);\n",
              "      border-right-color: var(--fill-color);\n",
              "    }\n",
              "    40% {\n",
              "      border-color: transparent;\n",
              "      border-right-color: var(--fill-color);\n",
              "      border-top-color: var(--fill-color);\n",
              "    }\n",
              "    60% {\n",
              "      border-color: transparent;\n",
              "      border-right-color: var(--fill-color);\n",
              "    }\n",
              "    80% {\n",
              "      border-color: transparent;\n",
              "      border-right-color: var(--fill-color);\n",
              "      border-bottom-color: var(--fill-color);\n",
              "    }\n",
              "    90% {\n",
              "      border-color: transparent;\n",
              "      border-bottom-color: var(--fill-color);\n",
              "    }\n",
              "  }\n",
              "</style>\n",
              "\n",
              "  <script>\n",
              "    async function quickchart(key) {\n",
              "      const quickchartButtonEl =\n",
              "        document.querySelector('#' + key + ' button');\n",
              "      quickchartButtonEl.disabled = true;  // To prevent multiple clicks.\n",
              "      quickchartButtonEl.classList.add('colab-df-spinner');\n",
              "      try {\n",
              "        const charts = await google.colab.kernel.invokeFunction(\n",
              "            'suggestCharts', [key], {});\n",
              "      } catch (error) {\n",
              "        console.error('Error during call to suggestCharts:', error);\n",
              "      }\n",
              "      quickchartButtonEl.classList.remove('colab-df-spinner');\n",
              "      quickchartButtonEl.classList.add('colab-df-quickchart-complete');\n",
              "    }\n",
              "    (() => {\n",
              "      let quickchartButtonEl =\n",
              "        document.querySelector('#df-ab52316f-9ea4-413d-b607-6c13106c6032 button');\n",
              "      quickchartButtonEl.style.display =\n",
              "        google.colab.kernel.accessAllowed ? 'block' : 'none';\n",
              "    })();\n",
              "  </script>\n",
              "</div>\n",
              "\n",
              "    </div>\n",
              "  </div>\n"
            ],
            "application/vnd.google.colaboratory.intrinsic+json": {
              "type": "dataframe",
              "variable_name": "data",
              "summary": "{\n  \"name\": \"data\",\n  \"rows\": 1190,\n  \"fields\": [\n    {\n      \"column\": \"edad\",\n      \"properties\": {\n        \"dtype\": \"number\",\n        \"std\": 9,\n        \"min\": 28,\n        \"max\": 77,\n        \"num_unique_values\": 50,\n        \"samples\": [\n          44,\n          68,\n          66\n        ],\n        \"semantic_type\": \"\",\n        \"description\": \"\"\n      }\n    },\n    {\n      \"column\": \"sexo\",\n      \"properties\": {\n        \"dtype\": \"number\",\n        \"std\": 0,\n        \"min\": 0,\n        \"max\": 1,\n        \"num_unique_values\": 2,\n        \"samples\": [\n          0,\n          1\n        ],\n        \"semantic_type\": \"\",\n        \"description\": \"\"\n      }\n    },\n    {\n      \"column\": \"tipo_dolor_pecho\",\n      \"properties\": {\n        \"dtype\": \"number\",\n        \"std\": 0,\n        \"min\": 1,\n        \"max\": 4,\n        \"num_unique_values\": 4,\n        \"samples\": [\n          3,\n          1\n        ],\n        \"semantic_type\": \"\",\n        \"description\": \"\"\n      }\n    },\n    {\n      \"column\": \"presion_reposo\",\n      \"properties\": {\n        \"dtype\": \"number\",\n        \"std\": 18,\n        \"min\": 0,\n        \"max\": 200,\n        \"num_unique_values\": 67,\n        \"samples\": [\n          165,\n          118\n        ],\n        \"semantic_type\": \"\",\n        \"description\": \"\"\n      }\n    },\n    {\n      \"column\": \"colesterol\",\n      \"properties\": {\n        \"dtype\": \"number\",\n        \"std\": 101,\n        \"min\": 0,\n        \"max\": 603,\n        \"num_unique_values\": 222,\n        \"samples\": [\n          305,\n          321\n        ],\n        \"semantic_type\": \"\",\n        \"description\": \"\"\n      }\n    },\n    {\n      \"column\": \"sangre_ayunas\",\n      \"properties\": {\n        \"dtype\": \"number\",\n        \"std\": 0,\n        \"min\": 0,\n        \"max\": 1,\n        \"num_unique_values\": 2,\n        \"samples\": [\n          1,\n          0\n        ],\n        \"semantic_type\": \"\",\n        \"description\": \"\"\n      }\n    },\n    {\n      \"column\": \"descansando\",\n      \"properties\": {\n        \"dtype\": \"number\",\n        \"std\": 0,\n        \"min\": 0,\n        \"max\": 2,\n        \"num_unique_values\": 3,\n        \"samples\": [\n          0,\n          1\n        ],\n        \"semantic_type\": \"\",\n        \"description\": \"\"\n      }\n    },\n    {\n      \"column\": \"frecuencia_cardiaca_max\",\n      \"properties\": {\n        \"dtype\": \"number\",\n        \"std\": 25,\n        \"min\": 60,\n        \"max\": 202,\n        \"num_unique_values\": 119,\n        \"samples\": [\n          132,\n          157\n        ],\n        \"semantic_type\": \"\",\n        \"description\": \"\"\n      }\n    },\n    {\n      \"column\": \"angina_inducida_por_ejercicio\",\n      \"properties\": {\n        \"dtype\": \"number\",\n        \"std\": 0,\n        \"min\": 0,\n        \"max\": 1,\n        \"num_unique_values\": 2,\n        \"samples\": [\n          1,\n          0\n        ],\n        \"semantic_type\": \"\",\n        \"description\": \"\"\n      }\n    },\n    {\n      \"column\": \"viejo_pico\",\n      \"properties\": {\n        \"dtype\": \"number\",\n        \"std\": 1.0863372185219835,\n        \"min\": -2.6,\n        \"max\": 6.2,\n        \"num_unique_values\": 53,\n        \"samples\": [\n          1.3,\n          0.6\n        ],\n        \"semantic_type\": \"\",\n        \"description\": \"\"\n      }\n    },\n    {\n      \"column\": \"pendiente_st\",\n      \"properties\": {\n        \"dtype\": \"number\",\n        \"std\": 0,\n        \"min\": 0,\n        \"max\": 3,\n        \"num_unique_values\": 4,\n        \"samples\": [\n          2,\n          0\n        ],\n        \"semantic_type\": \"\",\n        \"description\": \"\"\n      }\n    },\n    {\n      \"column\": \"objetivo\",\n      \"properties\": {\n        \"dtype\": \"number\",\n        \"std\": 0,\n        \"min\": 0,\n        \"max\": 1,\n        \"num_unique_values\": 2,\n        \"samples\": [\n          1,\n          0\n        ],\n        \"semantic_type\": \"\",\n        \"description\": \"\"\n      }\n    }\n  ]\n}"
            }
          },
          "metadata": {},
          "execution_count": 8
        }
      ],
      "source": [
        "columns_names = ['edad', 'sexo', 'tipo_dolor_pecho', 'presion_reposo', 'colesterol', 'sangre_ayunas', 'descansando', 'frecuencia_cardiaca_max', 'angina_inducida_por_ejercicio', 'viejo_pico', 'pendiente_st', 'objetivo']\n",
        "data = pd.read_csv('/content/gdrive/MyDrive/enfermedades_del_corazon (1).csv', header=None, skiprows=1, names=columns_names)\n",
        "X = data.iloc[:, 0:11]\n",
        "y = data.iloc[:, 11]\n",
        "m = len(y)\n",
        "data.head()"
      ]
    },
    {
      "cell_type": "code",
      "source": [
        "from google.colab import drive\n",
        "drive.mount('/content/drive')"
      ],
      "metadata": {
        "colab": {
          "base_uri": "https://localhost:8080/"
        },
        "id": "pTe79M8a3fXP",
        "outputId": "ff4fa8ab-1b60-4800-88b9-9c6dff39c8e8"
      },
      "execution_count": 9,
      "outputs": [
        {
          "output_type": "stream",
          "name": "stdout",
          "text": [
            "Mounted at /content/drive\n"
          ]
        }
      ]
    },
    {
      "cell_type": "code",
      "execution_count": 10,
      "metadata": {
        "colab": {
          "base_uri": "https://localhost:8080/"
        },
        "id": "Or7ZaSGF2i_9",
        "outputId": "49354af9-634b-4131-a035-ec5f0045758f"
      },
      "outputs": [
        {
          "output_type": "stream",
          "name": "stdout",
          "text": [
            "0    0\n",
            "1    1\n",
            "2    0\n",
            "3    1\n",
            "4    0\n",
            "Name: objetivo, dtype: int64\n"
          ]
        }
      ],
      "source": [
        "#print(data.head())\n",
        "#print(X.head())\n",
        "print(y.head())"
      ]
    },
    {
      "cell_type": "markdown",
      "source": [
        "NORMALIZACION DE CARACTERISTICAS\n",
        "Define una funcion para normalizar las caracteristicas restando la media y dividiendo por desviacion estandar.\n"
      ],
      "metadata": {
        "id": "qd0s-UbR3Vxr"
      }
    },
    {
      "cell_type": "code",
      "execution_count": 11,
      "metadata": {
        "id": "7xFD8H3WlHQ1"
      },
      "outputs": [],
      "source": [
        "def featureNormalize(X):\n",
        "    X_norm = X.copy()\n",
        "    mu = X.mean()\n",
        "    sigma = X.std()\n",
        "    X_norm = (X - mu) / sigma\n",
        "    return X_norm, mu, sigma\n"
      ]
    },
    {
      "cell_type": "code",
      "execution_count": 12,
      "metadata": {
        "colab": {
          "base_uri": "https://localhost:8080/"
        },
        "id": "ipL_QsTZlHQ2",
        "outputId": "8d2eeb4f-9063-4948-de53-6d37a390fcbb"
      },
      "outputs": [
        {
          "output_type": "stream",
          "name": "stdout",
          "text": [
            "      edad  sexo  tipo_dolor_pecho  presion_reposo  colesterol  sangre_ayunas  \\\n",
            "0       40     1                 2             140         289              0   \n",
            "1       49     0                 3             160         180              0   \n",
            "2       37     1                 2             130         283              0   \n",
            "3       48     0                 4             138         214              0   \n",
            "4       54     1                 3             150         195              0   \n",
            "...    ...   ...               ...             ...         ...            ...   \n",
            "1185    45     1                 1             110         264              0   \n",
            "1186    68     1                 4             144         193              1   \n",
            "1187    57     1                 4             130         131              0   \n",
            "1188    57     0                 2             130         236              0   \n",
            "1189    38     1                 3             138         175              0   \n",
            "\n",
            "      descansando  frecuencia_cardiaca_max  angina_inducida_por_ejercicio  \\\n",
            "0               0                      172                              0   \n",
            "1               0                      156                              0   \n",
            "2               1                       98                              0   \n",
            "3               0                      108                              1   \n",
            "4               0                      122                              0   \n",
            "...           ...                      ...                            ...   \n",
            "1185            0                      132                              0   \n",
            "1186            0                      141                              0   \n",
            "1187            0                      115                              1   \n",
            "1188            2                      174                              0   \n",
            "1189            0                      173                              0   \n",
            "\n",
            "      viejo_pico  pendiente_st  \n",
            "0            0.0             1  \n",
            "1            1.0             2  \n",
            "2            0.0             1  \n",
            "3            1.5             2  \n",
            "4            0.0             1  \n",
            "...          ...           ...  \n",
            "1185         1.2             2  \n",
            "1186         3.4             2  \n",
            "1187         1.2             2  \n",
            "1188         0.0             2  \n",
            "1189         0.0             1  \n",
            "\n",
            "[1190 rows x 11 columns]\n",
            "Media calculada: edad                              53.720168\n",
            "sexo                               0.763866\n",
            "tipo_dolor_pecho                   3.232773\n",
            "presion_reposo                   132.153782\n",
            "colesterol                       210.363866\n",
            "sangre_ayunas                      0.213445\n",
            "descansando                        0.698319\n",
            "frecuencia_cardiaca_max          139.732773\n",
            "angina_inducida_por_ejercicio      0.387395\n",
            "viejo_pico                         0.922773\n",
            "pendiente_st                       1.624370\n",
            "dtype: float64\n",
            "Desviación estandar calculada: edad                               9.358203\n",
            "sexo                               0.424884\n",
            "tipo_dolor_pecho                   0.935480\n",
            "presion_reposo                    18.368823\n",
            "colesterol                       101.420489\n",
            "sangre_ayunas                      0.409912\n",
            "descansando                        0.870359\n",
            "frecuencia_cardiaca_max           25.517636\n",
            "angina_inducida_por_ejercicio      0.487360\n",
            "viejo_pico                         1.086337\n",
            "pendiente_st                       0.610459\n",
            "dtype: float64\n",
            "          edad      sexo  tipo_dolor_pecho  presion_reposo  colesterol  \\\n",
            "0    -1.466111  0.555762         -1.317797        0.427149    0.775348   \n",
            "1    -0.504388 -1.797820         -0.248827        1.515950   -0.299386   \n",
            "2    -1.786686  0.555762         -1.317797       -0.117252    0.716188   \n",
            "3    -0.611246 -1.797820          0.820142        0.318269    0.035852   \n",
            "4     0.029902  0.555762         -0.248827        0.971549   -0.151487   \n",
            "...        ...       ...               ...             ...         ...   \n",
            "1185 -0.931821  0.555762         -2.386766       -1.206053    0.528849   \n",
            "1186  1.525916  0.555762          0.820142        0.644909   -0.171207   \n",
            "1187  0.350477  0.555762          0.820142       -0.117252   -0.782523   \n",
            "1188  0.350477 -1.797820         -1.317797       -0.117252    0.252771   \n",
            "1189 -1.679828  0.555762         -0.248827        0.318269   -0.348686   \n",
            "\n",
            "      sangre_ayunas  descansando  frecuencia_cardiaca_max  \\\n",
            "0         -0.520711    -0.802335                 1.264507   \n",
            "1         -0.520711    -0.802335                 0.637490   \n",
            "2         -0.520711     0.346616                -1.635448   \n",
            "3         -0.520711    -0.802335                -1.243562   \n",
            "4         -0.520711    -0.802335                -0.694922   \n",
            "...             ...          ...                      ...   \n",
            "1185      -0.520711    -0.802335                -0.303036   \n",
            "1186       1.918839    -0.802335                 0.049661   \n",
            "1187      -0.520711    -0.802335                -0.969242   \n",
            "1188      -0.520711     1.495568                 1.342884   \n",
            "1189      -0.520711    -0.802335                 1.303696   \n",
            "\n",
            "      angina_inducida_por_ejercicio  viejo_pico  pendiente_st  \n",
            "0                         -0.794885   -0.849435     -1.022787  \n",
            "1                         -0.794885    0.071089      0.615324  \n",
            "2                         -0.794885   -0.849435     -1.022787  \n",
            "3                          1.256987    0.531351      0.615324  \n",
            "4                         -0.794885   -0.849435     -1.022787  \n",
            "...                             ...         ...           ...  \n",
            "1185                      -0.794885    0.255194      0.615324  \n",
            "1186                      -0.794885    2.280348      0.615324  \n",
            "1187                       1.256987    0.255194      0.615324  \n",
            "1188                      -0.794885   -0.849435      0.615324  \n",
            "1189                      -0.794885   -0.849435     -1.022787  \n",
            "\n",
            "[1190 rows x 11 columns]\n"
          ]
        }
      ],
      "source": [
        "# llama featureNormalize con los datos cargados\n",
        "X_norm, mu, sigma = featureNormalize(X)\n",
        "\n",
        "print(X)\n",
        "print('Media calculada:', mu)\n",
        "print('Desviación estandar calculada:', sigma)\n",
        "print(X_norm)"
      ]
    },
    {
      "cell_type": "code",
      "execution_count": 12,
      "metadata": {
        "id": "Tw-uAOTXQVoV"
      },
      "outputs": [],
      "source": []
    },
    {
      "cell_type": "markdown",
      "source": [
        "AGREGAR COLUMNA INTERSECCION CALCULAR COSTO\n",
        "Se agrega una columna de unos X para representar el termino de interseccion, en el modelo de regresion y define una funcion para calcular el costo de la regresion lineal multivariable."
      ],
      "metadata": {
        "id": "ZfOQCRK_hn2M"
      }
    },
    {
      "cell_type": "code",
      "execution_count": 13,
      "metadata": {
        "id": "Xbaqd4tv2jAD"
      },
      "outputs": [],
      "source": [
        "X = pd.concat([pd.Series(1, index=X.index, name='intercept'), X_norm], axis=1)"
      ]
    },
    {
      "cell_type": "code",
      "execution_count": 14,
      "metadata": {
        "colab": {
          "base_uri": "https://localhost:8080/"
        },
        "id": "nbUVohnhlHQ3",
        "outputId": "b20f77f7-38d9-44af-ae8a-68735e989eb3"
      },
      "outputs": [
        {
          "output_type": "stream",
          "name": "stdout",
          "text": [
            "      intercept      edad      sexo  tipo_dolor_pecho  presion_reposo  \\\n",
            "0             1 -1.466111  0.555762         -1.317797        0.427149   \n",
            "1             1 -0.504388 -1.797820         -0.248827        1.515950   \n",
            "2             1 -1.786686  0.555762         -1.317797       -0.117252   \n",
            "3             1 -0.611246 -1.797820          0.820142        0.318269   \n",
            "4             1  0.029902  0.555762         -0.248827        0.971549   \n",
            "...         ...       ...       ...               ...             ...   \n",
            "1185          1 -0.931821  0.555762         -2.386766       -1.206053   \n",
            "1186          1  1.525916  0.555762          0.820142        0.644909   \n",
            "1187          1  0.350477  0.555762          0.820142       -0.117252   \n",
            "1188          1  0.350477 -1.797820         -1.317797       -0.117252   \n",
            "1189          1 -1.679828  0.555762         -0.248827        0.318269   \n",
            "\n",
            "      colesterol  sangre_ayunas  descansando  frecuencia_cardiaca_max  \\\n",
            "0       0.775348      -0.520711    -0.802335                 1.264507   \n",
            "1      -0.299386      -0.520711    -0.802335                 0.637490   \n",
            "2       0.716188      -0.520711     0.346616                -1.635448   \n",
            "3       0.035852      -0.520711    -0.802335                -1.243562   \n",
            "4      -0.151487      -0.520711    -0.802335                -0.694922   \n",
            "...          ...            ...          ...                      ...   \n",
            "1185    0.528849      -0.520711    -0.802335                -0.303036   \n",
            "1186   -0.171207       1.918839    -0.802335                 0.049661   \n",
            "1187   -0.782523      -0.520711    -0.802335                -0.969242   \n",
            "1188    0.252771      -0.520711     1.495568                 1.342884   \n",
            "1189   -0.348686      -0.520711    -0.802335                 1.303696   \n",
            "\n",
            "      angina_inducida_por_ejercicio  viejo_pico  pendiente_st  \n",
            "0                         -0.794885   -0.849435     -1.022787  \n",
            "1                         -0.794885    0.071089      0.615324  \n",
            "2                         -0.794885   -0.849435     -1.022787  \n",
            "3                          1.256987    0.531351      0.615324  \n",
            "4                         -0.794885   -0.849435     -1.022787  \n",
            "...                             ...         ...           ...  \n",
            "1185                      -0.794885    0.255194      0.615324  \n",
            "1186                      -0.794885    2.280348      0.615324  \n",
            "1187                       1.256987    0.255194      0.615324  \n",
            "1188                      -0.794885   -0.849435      0.615324  \n",
            "1189                      -0.794885   -0.849435     -1.022787  \n",
            "\n",
            "[1190 rows x 12 columns]\n"
          ]
        }
      ],
      "source": [
        "print(X)"
      ]
    },
    {
      "cell_type": "code",
      "execution_count": 15,
      "metadata": {
        "id": "Pp8gcbe12jAG"
      },
      "outputs": [],
      "source": [
        "def computeCostMulti(X, y, theta):\n",
        "    \"\"\"\n",
        "    Calcula el costo de la regresión lineal multivariable.\n",
        "\n",
        "    Args:\n",
        "        X (pd.DataFrame): DataFrame con las características (incluyendo la columna de unos).\n",
        "        y (pd.Series): Series con los valores objetivo.\n",
        "        theta (pd.Series): Series con los parámetros del modelo.\n",
        "\n",
        "    Returns:\n",
        "        float: El costo J.\n",
        "    \"\"\"\n",
        "    m = len(y)  # Número de ejemplos de entrenamiento (usando len para Pandas Series)\n",
        "\n",
        "    # Calcula las predicciones (h) usando la multiplicación de matrices de Pandas\n",
        "    h = X.dot(theta)\n",
        "\n",
        "    # Calcula el costo J usando las operaciones de Pandas\n",
        "    J = (1/(2 * m)) * ((h - y)**2).sum()\n",
        "\n",
        "    return J"
      ]
    },
    {
      "cell_type": "markdown",
      "source": [
        "DESCENSO POR EL GRADIENTE\n",
        "Funcion para realizar el descenso por el gradiente y encontrar los parametros optimos del modelo."
      ],
      "metadata": {
        "id": "qGRE-sHbip_I"
      }
    },
    {
      "cell_type": "code",
      "execution_count": 16,
      "metadata": {
        "id": "7i8LY81I2jAH"
      },
      "outputs": [],
      "source": [
        "def gradientDescentMulti(X, y, theta, alpha, num_iters):\n",
        "    \"\"\"\n",
        "    Realiza el descenso por el gradiente para la regresión lineal multivariable.\n",
        "\n",
        "    Args:\n",
        "        X (pd.DataFrame): DataFrame con las características (incluyendo la columna de unos).\n",
        "        y (pd.Series): Series con los valores objetivo.\n",
        "        theta (pd.Series): Series con los parámetros del modelo.\n",
        "        alpha (float): Coeficiente de aprendizaje.\n",
        "        num_iters (int): Número de iteraciones.\n",
        "\n",
        "    Returns:\n",
        "        tuple: (theta, J_history)\n",
        "            - theta (pd.Series): Los parámetros del modelo actualizados.\n",
        "            - J_history (list): El historial del costo J.\n",
        "    \"\"\"\n",
        "    m = len(y)  # Número de ejemplos de entrenamiento\n",
        "    theta = theta.copy()  # Copia de theta para actualizarla\n",
        "    J_history = []\n",
        "\n",
        "    for _ in range(num_iters):\n",
        "        # Calcula las predicciones\n",
        "        h = X.dot(theta)\n",
        "\n",
        "        # Actualiza theta usando las operaciones de Pandas\n",
        "        theta = theta - (alpha / m) * (X.T.dot(h - y))\n",
        "\n",
        "        # Guarda el costo en el historial\n",
        "        J_history.append(computeCostMulti(X, y, theta))\n",
        "\n",
        "    return theta, J_history"
      ]
    },
    {
      "cell_type": "code",
      "execution_count": 17,
      "metadata": {
        "colab": {
          "base_uri": "https://localhost:8080/",
          "height": 866
        },
        "id": "vCL_k9Ck2jAH",
        "outputId": "82a4545e-6ee8-46e5-ee4b-d252561aae20"
      },
      "outputs": [
        {
          "output_type": "stream",
          "name": "stdout",
          "text": [
            "theta calculado por el descenso por el gradiente: intercept                        0.518910\n",
            "edad                             0.021012\n",
            "sexo                             0.080306\n",
            "tipo_dolor_pecho                 0.109645\n",
            "presion_reposo                   0.014532\n",
            "colesterol                      -0.039585\n",
            "sangre_ayunas                    0.047428\n",
            "descansando                      0.015194\n",
            "frecuencia_cardiaca_max         -0.051574\n",
            "angina_inducida_por_ejercicio    0.086253\n",
            "viejo_pico                       0.061399\n",
            "pendiente_st                     0.107268\n",
            "dtype: float64\n",
            "Index(['intercept', 'edad', 'sexo', 'tipo_dolor_pecho', 'presion_reposo',\n",
            "       'colesterol', 'sangre_ayunas', 'descansando', 'frecuencia_cardiaca_max',\n",
            "       'angina_inducida_por_ejercicio', 'viejo_pico', 'pendiente_st'],\n",
            "      dtype='object')\n",
            "Index(['intercept', 'edad', 'sexo', 'tipo_dolor_pecho', 'presion_reposo',\n",
            "       'colesterol', 'sangre_ayunas', 'descansando', 'frecuencia_cardiaca_max',\n",
            "       'angina_inducida_por_ejercicio', 'viejo_pico', 'pendiente_st'],\n",
            "      dtype='object')\n",
            "\n",
            "¿Los índices son iguales? True\n",
            "Probabilidad de que el paciente tenga una enfermedad del corazón: 70.78%\n"
          ]
        },
        {
          "output_type": "display_data",
          "data": {
            "text/plain": [
              "<Figure size 640x480 with 1 Axes>"
            ],
            "image/png": "[encoded data removed]"
          },
          "metadata": {}
        }
      ],
      "source": [
        "# Elegir algún valor para alpha (probar varias alternativas)\n",
        "alpha = 0.001  # alpha = 0.003\n",
        "num_iters = 4000\n",
        "\n",
        "# Inicializa theta como una serie de Pandas\n",
        "#theta = pd.Series(np.zeros(3), index=['intercept', X.columns[0], X.columns[1]])\n",
        "theta = pd.Series(np.zeros(X.shape[1]), index=X.columns)\n",
        "\n",
        "# Ejecuta el descenso por el gradiente (la función ya está adaptada para Pandas)\n",
        "theta, J_history = gradientDescentMulti(X, y, theta, alpha, num_iters)\n",
        "\n",
        "# Grafica la convergencia del costo (pyplot sigue igual)\n",
        "pyplot.plot(np.arange(len(J_history)), J_history, lw=2)\n",
        "pyplot.xlabel('Número de iteraciones')\n",
        "pyplot.ylabel('Costo J')\n",
        "\n",
        "# Muestra los resultados del descenso por el gradiente\n",
        "print('theta calculado por el descenso por el gradiente: {}'.format(theta))\n",
        "\n",
        "# # Estimar el precio para una casa de 1650 sq-ft, con 3 dormitorios\n",
        "# X_array = pd.Series([1, 1650, 3], index=['intercept', X.columns[0], X.columns[1]])\n",
        "# X_array[1:] = (X_array[1:] - mu) / sigma  # Normaliza las características\n",
        "# price = X_array.dot(theta)  # Usando la multiplicación de matrices de Pandas\n",
        "\n",
        "# print('El precio predecido para una casa de 1650 sq-ft y 3 dormitorios (usando el descenso por el gradiente): ${:.0f}'.format(price))\n",
        "\n",
        "# Definir los valores del nuevo paciente (estos son ejemplos)\n",
        "nuevo_paciente = pd.Series([63, 1, 3, 145, 233, 1,1, 150, 0, 2.3, 3],\n",
        "                           index=['edad', 'sexo', 'tipo_dolor_pecho', 'presion_reposo',\n",
        "                                  'colesterol', 'sangre_ayunas','descansando', 'frecuencia_cardiaca_max',\n",
        "                                  'angina_inducida_por_ejercicio', 'viejo_pico', 'pendiente_st'])\n",
        "\n",
        "# Normalizar el nuevo paciente (usando las medias y desviaciones calculadas)\n",
        "nuevo_paciente = (nuevo_paciente - mu[nuevo_paciente.index]) / sigma[nuevo_paciente.index]\n",
        "\n",
        "# Agregar la intersección (bias term)\n",
        "nuevo_paciente = pd.concat([pd.Series([1], index=['intercept']), nuevo_paciente])\n",
        "print(nuevo_paciente.index)\n",
        "print(theta.index)\n",
        "# Verificar si los índices son iguales\n",
        "print(\"\\n¿Los índices son iguales?\", nuevo_paciente.index.equals(theta.index))\n",
        "\n",
        "# Realizar la predicción\n",
        "prediccion = nuevo_paciente.dot(theta)\n",
        "\n",
        "# Convertir la salida a una probabilidad usando la función sigmoide (si usas regresión logística)\n",
        "probabilidad = 1 / (1 + np.exp(-prediccion))\n",
        "\n",
        "print('Probabilidad de que el paciente tenga una enfermedad del corazón: {:.2f}%'.format(probabilidad * 100))\n"
      ]
    },
    {
      "cell_type": "markdown",
      "source": [
        "PREDICCION CON NUEVO PACIENTE\n",
        "Define el nuevo paciente, normaliza y agrega interaccion, realiza prediccion y calcula probabilidad."
      ],
      "metadata": {
        "id": "xFjO6kjukj_V"
      }
    },
    {
      "cell_type": "code",
      "execution_count": 18,
      "metadata": {
        "colab": {
          "base_uri": "https://localhost:8080/"
        },
        "id": "nRLWVfwx2jAJ",
        "outputId": "44c5f7de-c7de-4de0-f420-a35412d12f02"
      },
      "outputs": [
        {
          "output_type": "stream",
          "name": "stdout",
          "text": [
            "Index(['intercept', 'edad', 'sexo', 'tipo_dolor_pecho', 'presion_reposo',\n",
            "       'colesterol', 'sangre_ayunas', 'descansando', 'frecuencia_cardiaca_max',\n",
            "       'angina_inducida_por_ejercicio', 'viejo_pico', 'pendiente_st'],\n",
            "      dtype='object')\n",
            "Index(['intercept', 'edad', 'sexo', 'tipo_dolor_pecho', 'presion_reposo',\n",
            "       'colesterol', 'sangre_ayunas', 'descansando', 'frecuencia_cardiaca_max',\n",
            "       'angina_inducida_por_ejercicio', 'viejo_pico', 'pendiente_st'],\n",
            "      dtype='object')\n",
            "\n",
            "¿Los índices son iguales? True\n",
            "Probabilidad de que el paciente tenga una enfermedad del corazón: 71.25%\n"
          ]
        }
      ],
      "source": [
        "nuevo_paciente = pd.Series([83, 0, 3, 122, 213, 1,1, 150, 1, 2.3, 3],\n",
        "                           index=['edad', 'sexo', 'tipo_dolor_pecho', 'presion_reposo',\n",
        "                                  'colesterol', 'sangre_ayunas','descansando', 'frecuencia_cardiaca_max',\n",
        "                                  'angina_inducida_por_ejercicio', 'viejo_pico', 'pendiente_st'])\n",
        "\n",
        "# Normalizar el nuevo paciente (usando las medias y desviaciones calculadas)\n",
        "nuevo_paciente = (nuevo_paciente - mu[nuevo_paciente.index]) / sigma[nuevo_paciente.index]\n",
        "\n",
        "# Agregar la intersección (bias term)\n",
        "nuevo_paciente = pd.concat([pd.Series([1], index=['intercept']), nuevo_paciente])\n",
        "print(nuevo_paciente.index)\n",
        "print(theta.index)\n",
        "# Verificar si los índices son iguales\n",
        "print(\"\\n¿Los índices son iguales?\", nuevo_paciente.index.equals(theta.index))\n",
        "\n",
        "# Realizar la predicción\n",
        "prediccion = nuevo_paciente.dot(theta)\n",
        "\n",
        "# Convertir la salida a una probabilidad usando la función sigmoide (si usas regresión logística)\n",
        "probabilidad = 1 / (1 + np.exp(-prediccion))\n",
        "\n",
        "print('Probabilidad de que el paciente tenga una enfermedad del corazón: {:.2f}%'.format(probabilidad * 100))"
      ]
    },
    {
      "cell_type": "markdown",
      "source": [
        "ECUACION NORMAL\n",
        "Funcion para calcular los parametros del modelo usando la ecuacion normal y calcula la funcion para obtener los parametros de (theta)"
      ],
      "metadata": {
        "id": "8gGAdH-Mk9JQ"
      }
    },
    {
      "cell_type": "code",
      "execution_count": 19,
      "metadata": {
        "id": "ov_EBjUV2jAM"
      },
      "outputs": [],
      "source": [
        "def normalEqn(X, y):\n",
        "    \"\"\"\n",
        "    Calcula los parámetros theta usando la ecuación normal.\n",
        "\n",
        "    Args:\n",
        "        X (pd.DataFrame): DataFrame con las características (incluyendo la columna de unos).\n",
        "        y (pd.Series): Series con los valores objetivo.\n",
        "\n",
        "    Returns:\n",
        "        pd.Series: Los parámetros theta calculados.\n",
        "    \"\"\"\n",
        "    # Calcula theta usando la ecuación normal: theta = (X'X)^(-1) X'y\n",
        "    theta_values = np.linalg.solve(X.T.dot(X).values, X.T.dot(y).values)\n",
        "\n",
        "    # Asigna los valores de theta al índice de las columnas de X\n",
        "    theta = pd.Series(theta_values, index=X.columns)\n",
        "\n",
        "    return theta\n"
      ]
    },
    {
      "cell_type": "code",
      "execution_count": 20,
      "metadata": {
        "colab": {
          "base_uri": "https://localhost:8080/"
        },
        "id": "ifC5osm42jAM",
        "outputId": "ed2dd188-ffff-43d9-bf2d-c6b99c9a2463"
      },
      "outputs": [
        {
          "output_type": "stream",
          "name": "stdout",
          "text": [
            "Theta calculado a partir de la ecuación de la normal: intercept                        0.528571\n",
            "edad                             0.021104\n",
            "sexo                             0.081433\n",
            "tipo_dolor_pecho                 0.112259\n",
            "presion_reposo                   0.015736\n",
            "colesterol                      -0.039144\n",
            "sangre_ayunas                    0.047229\n",
            "descansando                      0.014943\n",
            "frecuencia_cardiaca_max         -0.048372\n",
            "angina_inducida_por_ejercicio    0.085118\n",
            "viejo_pico                       0.057947\n",
            "pendiente_st                     0.111507\n",
            "dtype: float64\n",
            "Index(['intercept', 'edad', 'sexo', 'tipo_dolor_pecho', 'presion_reposo',\n",
            "       'colesterol', 'sangre_ayunas', 'descansando', 'frecuencia_cardiaca_max',\n",
            "       'angina_inducida_por_ejercicio', 'viejo_pico', 'pendiente_st'],\n",
            "      dtype='object')\n",
            "Index(['intercept', 'edad', 'sexo', 'tipo_dolor_pecho', 'presion_reposo',\n",
            "       'colesterol', 'sangre_ayunas', 'descansando', 'frecuencia_cardiaca_max',\n",
            "       'angina_inducida_por_ejercicio', 'viejo_pico', 'pendiente_st'],\n",
            "      dtype='object')\n",
            "\n",
            "¿Los índices son iguales? True\n",
            "Probabilidad de que el paciente tenga una enfermedad del corazón: 71.15%\n"
          ]
        }
      ],
      "source": [
        "# Calcula los parámetros con la ecuación de la normal (la función ya está adaptada)\n",
        "theta = normalEqn(X, y)\n",
        "\n",
        "# Muestra los resultados (se puede imprimir theta directamente)\n",
        "print('Theta calculado a partir de la ecuación de la normal: {}'.format(theta))\n",
        "\n",
        "nuevo_paciente = pd.Series([63, 1, 3, 145, 233, 1,1, 150, 0, 2.3, 3],\n",
        "                           index=['edad', 'sexo', 'tipo_dolor_pecho', 'presion_reposo',\n",
        "                                  'colesterol', 'sangre_ayunas','descansando', 'frecuencia_cardiaca_max',\n",
        "                                  'angina_inducida_por_ejercicio', 'viejo_pico', 'pendiente_st'])\n",
        "\n",
        "# Normalizar el nuevo paciente (usando las medias y desviaciones calculadas)\n",
        "nuevo_paciente = (nuevo_paciente - mu[nuevo_paciente.index]) / sigma[nuevo_paciente.index]\n",
        "\n",
        "# Agregar la intersección (bias term)\n",
        "nuevo_paciente = pd.concat([pd.Series([1], index=['intercept']), nuevo_paciente])\n",
        "print(nuevo_paciente.index)\n",
        "print(theta.index)\n",
        "# Verificar si los índices son iguales\n",
        "print(\"\\n¿Los índices son iguales?\", nuevo_paciente.index.equals(theta.index))\n",
        "\n",
        "# Realizar la predicción\n",
        "prediccion = nuevo_paciente.dot(theta)\n",
        "\n",
        "# Convertir la salida a una probabilidad usando la función sigmoide (si usas regresión logística)\n",
        "probabilidad = 1 / (1 + np.exp(-prediccion))\n",
        "\n",
        "print('Probabilidad de que el paciente tenga una enfermedad del corazón: {:.2f}%'.format(probabilidad * 100))"
      ]
    }
  ],
  "metadata": {
    "colab": {
      "provenance": []
    },
    "kernelspec": {
      "display_name": "Python 3",
      "language": "python",
      "name": "python3"
    },
    "language_info": {
      "codemirror_mode": {
        "name": "ipython",
        "version": 3
      },
      "file_extension": ".py",
      "mimetype": "text/x-python",
      "name": "python",
      "nbconvert_exporter": "python",
      "pygments_lexer": "ipython3",
      "version": "3.11.9"
    }
  },
  "nbformat": 4,
  "nbformat_minor": 0
}