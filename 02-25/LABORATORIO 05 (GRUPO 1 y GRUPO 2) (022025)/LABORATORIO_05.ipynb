{
  "nbformat": 4,
  "nbformat_minor": 0,
  "metadata": {
    "colab": {
      "provenance": []
    },
    "kernelspec": {
      "name": "python3",
      "display_name": "Python 3"
    },
    "language_info": {
      "name": "python"
    }
  },
  "cells": [
    {
      "cell_type": "markdown",
      "source": [
        "Iris describe características físicas de flores del género Iris 🌷, con el propósito de clasificarlas automáticamente según su especie. Cada fila del dataset representa una flor diferente.\n",
        "\n",
        "Atributo\tSignificado\tQué representa\n",
        "sepal_length\tLongitud del sépalo\tTamaño de la parte exterior de la flor (la “hojita” que protege el pétalo)\n",
        "sepal_width\tAnchura del petalo\tQué tan ancho es el petalo\n",
        "petal_length\tLongitud del pétalo\tTamaño de la parte interna colorida\n",
        "petal_width\tAnchura del pétalo\tQué tan ancho es el pétalo.  Si el pétalo es corto y ancho, casi siempre es Setosa.\n",
        "\n",
        "Si el pétalo es largo y angosto, suele ser Versicolor.\n",
        "\n",
        "Si el pétalo es largo y ancho, es Virginica.\n",
        "\n",
        "En otras palabras, el modelo aprende fronteras de decisión en el espacio de esas cuatro medidas."
      ],
      "metadata": {
        "id": "wfkXTeXi7yNY"
      }
    },
    {
      "cell_type": "markdown",
      "source": [
        "Instalación e importación de librerías"
      ],
      "metadata": {
        "id": "KcP9J_Q09ko2"
      }
    },
    {
      "cell_type": "code",
      "execution_count": 1,
      "metadata": {
        "id": "rpuTzt4UtsWh"
      },
      "outputs": [],
      "source": [
        "import os\n",
        "import random\n",
        "import numpy as np\n",
        "import pandas as pd\n",
        "import matplotlib.pyplot as plt\n",
        "from sklearn.datasets import load_iris\n",
        "from sklearn.model_selection import StratifiedShuffleSplit, train_test_split\n",
        "from sklearn.preprocessing import StandardScaler\n",
        "from sklearn.multiclass import OneVsRestClassifier\n",
        "from sklearn.linear_model import LogisticRegression\n",
        "from sklearn.metrics import accuracy_score, classification_report, confusion_matrix\n",
        "import torch\n",
        "import torch.nn as nn\n",
        "import torch.nn.functional as F\n",
        "from torch.utils.data import TensorDataset, DataLoader"
      ]
    },
    {
      "cell_type": "code",
      "source": [
        "SEED = 42\n",
        "random.seed(SEED)\n",
        "np.random.seed(SEED)\n",
        "torch.manual_seed(SEED)\n",
        "if torch.cuda.is_available():\n",
        "    torch.cuda.manual_seed_all(SEED)\n",
        "\n",
        "DEVICE = torch.device(\"cuda\" if torch.cuda.is_available() else \"cpu\")\n",
        "print(\"DEVICE:\", DEVICE)"
      ],
      "metadata": {
        "colab": {
          "base_uri": "https://localhost:8080/"
        },
        "id": "4_t0z9Bov8il",
        "outputId": "7afadd1e-d9a8-47b4-a14f-0f8936f02803"
      },
      "execution_count": 2,
      "outputs": [
        {
          "output_type": "stream",
          "name": "stdout",
          "text": [
            "DEVICE: cpu\n"
          ]
        }
      ]
    },
    {
      "cell_type": "markdown",
      "source": [
        "Cargar y preparar el dataset"
      ],
      "metadata": {
        "id": "HVjo6Xsi_BbA"
      }
    },
    {
      "cell_type": "code",
      "source": [
        "iris = load_iris(as_frame=True)\n",
        "X = iris.data.values\n",
        "y = iris.target\n",
        "feature_names = iris.feature_names\n",
        "target_names = iris.target_names\n",
        "print(\"Features:\", feature_names)\n",
        "print(\"Targets:\", target_names)\n",
        "print(\"X shape:\", X.shape, \"y shape:\", y.shape)"
      ],
      "metadata": {
        "colab": {
          "base_uri": "https://localhost:8080/"
        },
        "id": "a34NPxs-v8Vc",
        "outputId": "a38d3e30-83ea-4b15-8007-a286db6a680f"
      },
      "execution_count": 3,
      "outputs": [
        {
          "output_type": "stream",
          "name": "stdout",
          "text": [
            "Features: ['sepal length (cm)', 'sepal width (cm)', 'petal length (cm)', 'petal width (cm)']\n",
            "Targets: ['setosa' 'versicolor' 'virginica']\n",
            "X shape: (150, 4) y shape: (150,)\n"
          ]
        }
      ]
    },
    {
      "cell_type": "markdown",
      "source": [
        "Escalado (normalización de datos)"
      ],
      "metadata": {
        "id": "EnA1dlZ__HFX"
      }
    },
    {
      "cell_type": "code",
      "source": [
        "X = np.array(X)\n",
        "y = np.array(y)"
      ],
      "metadata": {
        "id": "TGf5GpbKyLpL"
      },
      "execution_count": 7,
      "outputs": []
    },
    {
      "cell_type": "code",
      "source": [
        "print(X.shape, y.shape)"
      ],
      "metadata": {
        "colab": {
          "base_uri": "https://localhost:8080/"
        },
        "id": "fLvjGSV7yPrS",
        "outputId": "c5dbfa34-faf1-453b-e5b8-45a7b544fbc1"
      },
      "execution_count": 8,
      "outputs": [
        {
          "output_type": "stream",
          "name": "stdout",
          "text": [
            "(150, 4) (150,)\n"
          ]
        }
      ]
    },
    {
      "cell_type": "code",
      "source": [
        "print(len(y), y[:5])"
      ],
      "metadata": {
        "colab": {
          "base_uri": "https://localhost:8080/"
        },
        "id": "uMO0xTU_yUcD",
        "outputId": "40769d43-e508-4d65-cc7c-5e70b00195a6"
      },
      "execution_count": 9,
      "outputs": [
        {
          "output_type": "stream",
          "name": "stdout",
          "text": [
            "150 [0 0 0 0 0]\n"
          ]
        }
      ]
    },
    {
      "cell_type": "code",
      "source": [
        "SEED = 42"
      ],
      "metadata": {
        "id": "YNBvr19ryZsx"
      },
      "execution_count": 10,
      "outputs": []
    },
    {
      "cell_type": "code",
      "source": [
        "sss = StratifiedShuffleSplit(n_splits=1, test_size=0.2, random_state=SEED)\n",
        "train_idx, test_idx = next(sss.split(X, y))\n",
        "X_trainval, X_test = X[train_idx], X[test_idx]\n",
        "y_trainval, y_test = y[train_idx], y[test_idx]\n",
        "\n",
        "sss2 = StratifiedShuffleSplit(n_splits=1, test_size=0.2, random_state=SEED)\n",
        "train_idx2, val_idx2 = next(sss2.split(X_trainval, y_trainval))\n",
        "X_train, X_val = X_trainval[train_idx2], X_trainval[val_idx2]\n",
        "y_train, y_val = y_trainval[train_idx2], y_trainval[val_idx2]\n",
        "\n",
        "print(\"Train:\", X_train.shape, \"Val:\", X_val.shape, \"Test:\", X_test.shape)"
      ],
      "metadata": {
        "colab": {
          "base_uri": "https://localhost:8080/"
        },
        "id": "0MhsmnPmv8IE",
        "outputId": "ecc3f6bb-1178-44b7-9f6c-b3cf364f6486"
      },
      "execution_count": 12,
      "outputs": [
        {
          "output_type": "stream",
          "name": "stdout",
          "text": [
            "Train: (96, 4) Val: (24, 4) Test: (30, 4)\n"
          ]
        }
      ]
    },
    {
      "cell_type": "markdown",
      "source": [
        "Escalo standar ajistado solo con train"
      ],
      "metadata": {
        "id": "QANJmYxj_ylE"
      }
    },
    {
      "cell_type": "code",
      "source": [
        "\n",
        "scaler = StandardScaler()\n",
        "scaler.fit(X_train)\n",
        "X_train_s = scaler.transform(X_train)\n",
        "X_val_s   = scaler.transform(X_val)\n",
        "X_test_s  = scaler.transform(X_test)"
      ],
      "metadata": {
        "id": "iApx_qUvv75M"
      },
      "execution_count": 26,
      "outputs": []
    },
    {
      "cell_type": "code",
      "source": [
        "# Cell 6 - Baseline One-vs-All con LogisticRegression\n",
        "ovr = OneVsRestClassifier(LogisticRegression(max_iter=200, random_state=SEED))\n",
        "ovr.fit(X_train_s, y_train)\n",
        "y_val_pred_ovr = ovr.predict(X_val_s)\n",
        "y_test_pred_ovr = ovr.predict(X_test_s)\n",
        "\n",
        "acc_val_ovr = accuracy_score(y_val, y_val_pred_ovr)\n",
        "acc_test_ovr = accuracy_score(y_test, y_test_pred_ovr)\n",
        "print(f\"Baseline OVR - Val accuracy: {acc_val_ovr:.4f}, Test accuracy: {acc_test_ovr:.4f}\")\n",
        "print(\"Report (test):\\n\", classification_report(y_test, y_test_pred_ovr, target_names=target_names))"
      ],
      "metadata": {
        "colab": {
          "base_uri": "https://localhost:8080/"
        },
        "id": "p60Qs4IQv7tT",
        "outputId": "df3b2490-41d7-4c00-d6f2-e13c6fc148ec"
      },
      "execution_count": 14,
      "outputs": [
        {
          "output_type": "stream",
          "name": "stdout",
          "text": [
            "Baseline OVR - Val accuracy: 0.8750, Test accuracy: 0.8333\n",
            "Report (test):\n",
            "               precision    recall  f1-score   support\n",
            "\n",
            "      setosa       1.00      1.00      1.00        10\n",
            "  versicolor       0.86      0.60      0.71        10\n",
            "   virginica       0.69      0.90      0.78        10\n",
            "\n",
            "    accuracy                           0.83        30\n",
            "   macro avg       0.85      0.83      0.83        30\n",
            "weighted avg       0.85      0.83      0.83        30\n",
            "\n"
          ]
        }
      ]
    },
    {
      "cell_type": "markdown",
      "source": [
        "Convertir a tensores"
      ],
      "metadata": {
        "id": "IeIfYSPQAAX_"
      }
    },
    {
      "cell_type": "code",
      "source": [
        "\n",
        "X_train_t = torch.tensor(X_train_s, dtype=torch.float32)\n",
        "y_train_t = torch.tensor(y_train, dtype=torch.long)\n",
        "X_val_t = torch.tensor(X_val_s, dtype=torch.float32)\n",
        "y_val_t = torch.tensor(y_val, dtype=torch.long)\n",
        "X_test_t = torch.tensor(X_test_s, dtype=torch.float32)\n",
        "y_test_t = torch.tensor(y_test, dtype=torch.long)\n",
        "\n",
        "BATCH_SIZE = 16\n",
        "train_ds = TensorDataset(X_train_t, y_train_t)\n",
        "val_ds = TensorDataset(X_val_t, y_val_t)\n",
        "test_ds = TensorDataset(X_test_t, y_test_t)\n",
        "\n",
        "train_loader = DataLoader(train_ds, batch_size=BATCH_SIZE, shuffle=True)\n",
        "val_loader = DataLoader(val_ds, batch_size=BATCH_SIZE, shuffle=False)\n",
        "test_loader = DataLoader(test_ds, batch_size=BATCH_SIZE, shuffle=False)"
      ],
      "metadata": {
        "id": "sVSi4nbxwVXo"
      },
      "execution_count": 27,
      "outputs": []
    },
    {
      "cell_type": "markdown",
      "source": [
        "Definir la red neuronal"
      ],
      "metadata": {
        "id": "8aMMBBxAAIT4"
      }
    },
    {
      "cell_type": "code",
      "source": [
        "\n",
        "class IrisNet(nn.Module):\n",
        "    def __init__(self, input_dim=4, hidden_dim=64, dropout_p=0.2, num_classes=3):\n",
        "        super().__init__()\n",
        "        self.fc1 = nn.Linear(input_dim, hidden_dim)\n",
        "        self.bn1 = nn.BatchNorm1d(hidden_dim)\n",
        "        self.fc2 = nn.Linear(hidden_dim, hidden_dim//2)\n",
        "        self.bn2 = nn.BatchNorm1d(hidden_dim//2)\n",
        "        self.dropout = nn.Dropout(dropout_p)\n",
        "        self.out = nn.Linear(hidden_dim//2, num_classes)\n",
        "    def forward(self, x):\n",
        "        x = F.relu(self.bn1(self.fc1(x)))\n",
        "        x = self.dropout(x)\n",
        "        x = F.relu(self.bn2(self.fc2(x)))\n",
        "        x = self.dropout(x)\n",
        "        x = self.out(x)\n",
        "        return x\n",
        "\n",
        "model = IrisNet().to(DEVICE)\n",
        "print(model)"
      ],
      "metadata": {
        "colab": {
          "base_uri": "https://localhost:8080/"
        },
        "id": "W1V9CHoWwVUU",
        "outputId": "4fb26dcf-ef4d-4ffb-a25d-94712bff051f"
      },
      "execution_count": 28,
      "outputs": [
        {
          "output_type": "stream",
          "name": "stdout",
          "text": [
            "IrisNet(\n",
            "  (fc1): Linear(in_features=4, out_features=64, bias=True)\n",
            "  (bn1): BatchNorm1d(64, eps=1e-05, momentum=0.1, affine=True, track_running_stats=True)\n",
            "  (fc2): Linear(in_features=64, out_features=32, bias=True)\n",
            "  (bn2): BatchNorm1d(32, eps=1e-05, momentum=0.1, affine=True, track_running_stats=True)\n",
            "  (dropout): Dropout(p=0.2, inplace=False)\n",
            "  (out): Linear(in_features=32, out_features=3, bias=True)\n",
            ")\n"
          ]
        }
      ]
    },
    {
      "cell_type": "code",
      "source": [
        "# === ENTRENAMIENTO ROBUSTO Y COMPATIBLE CON COLAB ===\n",
        "def train_model(model, train_loader, val_loader, device, epochs=200, lr=1e-3, weight_decay=1e-4, patience=20):\n",
        "    optimizer = torch.optim.Adam(model.parameters(), lr=lr, weight_decay=weight_decay)\n",
        "    scheduler = torch.optim.lr_scheduler.ReduceLROnPlateau(\n",
        "        optimizer, mode='max', factor=0.5, patience=7\n",
        "    )  # <- sin verbose=True\n",
        "    criterion = nn.CrossEntropyLoss()\n",
        "    best_val = 0.0\n",
        "    best_state = None\n",
        "    early_counter = 0\n",
        "    history = {\"train_loss\": [], \"val_loss\": [], \"val_acc\": []}\n",
        "\n",
        "    for epoch in range(1, epochs+1):\n",
        "        model.train()\n",
        "        train_losses = []\n",
        "        for xb, yb in train_loader:\n",
        "            xb, yb = xb.to(device), yb.to(device)\n",
        "            optimizer.zero_grad()\n",
        "            logits = model(xb)\n",
        "            loss = criterion(logits, yb)\n",
        "            loss.backward()\n",
        "            optimizer.step()\n",
        "            train_losses.append(loss.item())\n",
        "        avg_train_loss = np.mean(train_losses)\n",
        "\n",
        "        # validation\n",
        "        model.eval()\n",
        "        val_losses = []\n",
        "        preds = []\n",
        "        trues = []\n",
        "        with torch.no_grad():\n",
        "            for xb, yb in val_loader:\n",
        "                xb, yb = xb.to(device), yb.to(device)\n",
        "                logits = model(xb)\n",
        "                loss = criterion(logits, yb)\n",
        "                val_losses.append(loss.item())\n",
        "                preds.append(logits.argmax(dim=1).cpu().numpy())\n",
        "                trues.append(yb.cpu().numpy())\n",
        "        avg_val_loss = np.mean(val_losses)\n",
        "        preds = np.concatenate(preds)\n",
        "        trues = np.concatenate(trues)\n",
        "        val_acc = accuracy_score(trues, preds)\n",
        "\n",
        "        history[\"train_loss\"].append(avg_train_loss)\n",
        "        history[\"val_loss\"].append(avg_val_loss)\n",
        "        history[\"val_acc\"].append(val_acc)\n",
        "\n",
        "        # scheduler seguro\n",
        "        try:\n",
        "            scheduler.step(val_acc)\n",
        "        except Exception:\n",
        "            pass\n",
        "\n",
        "        # early stopping\n",
        "        if val_acc > best_val + 1e-6:\n",
        "            best_val = val_acc\n",
        "            best_state = {k: v.cpu().clone() for k, v in model.state_dict().items()}\n",
        "            early_counter = 0\n",
        "        else:\n",
        "            early_counter += 1\n",
        "\n",
        "        if epoch % 10 == 0 or epoch == 1:\n",
        "            print(f\"Epoch {epoch:03d} | train_loss: {avg_train_loss:.4f} | val_loss: {avg_val_loss:.4f} | val_acc: {val_acc:.4f}\")\n",
        "\n",
        "        if early_counter >= patience:\n",
        "            print(f\"Early stopping en epoch {epoch}. Mejor val_acc={best_val:.4f}\")\n",
        "            break\n",
        "\n",
        "    if best_state is None:\n",
        "        best_state = model.state_dict()\n",
        "    model.load_state_dict(best_state)\n",
        "    return model, history\n",
        "\n",
        "\n",
        "# Entrenamiento\n",
        "model = IrisNet().to(DEVICE)\n",
        "model, history = train_model(model, train_loader, val_loader, DEVICE, epochs=300, lr=1e-3, weight_decay=1e-4, patience=30)"
      ],
      "metadata": {
        "colab": {
          "base_uri": "https://localhost:8080/"
        },
        "id": "_0Hww8iFwVRC",
        "outputId": "0fc97a6c-8f90-4a1c-b02b-82a6f3e2fb17"
      },
      "execution_count": 22,
      "outputs": [
        {
          "output_type": "stream",
          "name": "stdout",
          "text": [
            "Epoch 001 | train_loss: 1.0694 | val_loss: 1.0172 | val_acc: 0.4583\n",
            "Epoch 010 | train_loss: 0.4977 | val_loss: 0.4028 | val_acc: 0.8750\n",
            "Epoch 020 | train_loss: 0.3148 | val_loss: 0.3107 | val_acc: 0.9167\n",
            "Epoch 030 | train_loss: 0.2324 | val_loss: 0.2708 | val_acc: 0.9167\n",
            "Epoch 040 | train_loss: 0.2999 | val_loss: 0.2658 | val_acc: 0.9167\n",
            "Early stopping en epoch 42. Mejor val_acc=0.9167\n"
          ]
        }
      ]
    },
    {
      "cell_type": "markdown",
      "source": [
        "Evaluar en test"
      ],
      "metadata": {
        "id": "AbovF7y0AVrr"
      }
    },
    {
      "cell_type": "code",
      "source": [
        "\n",
        "def evaluate(model, dataloader, device):\n",
        "    model.eval()\n",
        "    preds = []\n",
        "    trues = []\n",
        "    with torch.no_grad():\n",
        "        for xb, yb in dataloader:\n",
        "            xb = xb.to(device)\n",
        "            out = model(xb)\n",
        "            preds.append(out.argmax(dim=1).cpu().numpy())\n",
        "            trues.append(yb.numpy())\n",
        "    preds = np.concatenate(preds)\n",
        "    trues = np.concatenate(trues)\n",
        "    acc = accuracy_score(trues, preds)\n",
        "    return acc, preds, trues\n",
        "\n",
        "acc_test_nn, preds_test_nn, trues_test_nn = evaluate(model, test_loader, DEVICE)\n",
        "print(f\"NN Test accuracy: {acc_test_nn:.4f}\")\n",
        "print(\"NN Classification report (test):\\n\", classification_report(trues_test_nn, preds_test_nn, target_names=target_names))\n",
        "print(\"Baseline OVR Test accuracy (repeated):\", acc_test_ovr)"
      ],
      "metadata": {
        "colab": {
          "base_uri": "https://localhost:8080/"
        },
        "id": "qWKKpJ2twsIB",
        "outputId": "b72c2ba2-45f2-4180-bba5-689cabce6ec2"
      },
      "execution_count": 29,
      "outputs": [
        {
          "output_type": "stream",
          "name": "stdout",
          "text": [
            "NN Test accuracy: 0.0667\n",
            "NN Classification report (test):\n",
            "               precision    recall  f1-score   support\n",
            "\n",
            "      setosa       0.11      0.20      0.14        10\n",
            "  versicolor       0.00      0.00      0.00        10\n",
            "   virginica       0.00      0.00      0.00        10\n",
            "\n",
            "    accuracy                           0.07        30\n",
            "   macro avg       0.04      0.07      0.05        30\n",
            "weighted avg       0.04      0.07      0.05        30\n",
            "\n",
            "Baseline OVR Test accuracy (repeated): 0.8333333333333334\n"
          ]
        },
        {
          "output_type": "stream",
          "name": "stderr",
          "text": [
            "/usr/local/lib/python3.12/dist-packages/sklearn/metrics/_classification.py:1565: UndefinedMetricWarning: Precision is ill-defined and being set to 0.0 in labels with no predicted samples. Use `zero_division` parameter to control this behavior.\n",
            "  _warn_prf(average, modifier, f\"{metric.capitalize()} is\", len(result))\n",
            "/usr/local/lib/python3.12/dist-packages/sklearn/metrics/_classification.py:1565: UndefinedMetricWarning: Precision is ill-defined and being set to 0.0 in labels with no predicted samples. Use `zero_division` parameter to control this behavior.\n",
            "  _warn_prf(average, modifier, f\"{metric.capitalize()} is\", len(result))\n",
            "/usr/local/lib/python3.12/dist-packages/sklearn/metrics/_classification.py:1565: UndefinedMetricWarning: Precision is ill-defined and being set to 0.0 in labels with no predicted samples. Use `zero_division` parameter to control this behavior.\n",
            "  _warn_prf(average, modifier, f\"{metric.capitalize()} is\", len(result))\n"
          ]
        }
      ]
    },
    {
      "cell_type": "markdown",
      "source": [
        "Mostrar curvas de entrenamiento"
      ],
      "metadata": {
        "id": "O0yZtunpAZ35"
      }
    },
    {
      "cell_type": "code",
      "source": [
        "\n",
        "plt.figure(figsize=(10,4))\n",
        "plt.subplot(1,2,1)\n",
        "plt.plot(history['train_loss'], label='train_loss')\n",
        "plt.plot(history['val_loss'], label='val_loss')\n",
        "plt.legend()\n",
        "plt.title('Loss')\n",
        "\n",
        "plt.subplot(1,2,2)\n",
        "plt.plot(history['val_acc'], label='val_acc')\n",
        "plt.xlabel('Epochs')\n",
        "plt.title('Validation accuracy')\n",
        "plt.legend()\n",
        "plt.show()"
      ],
      "metadata": {
        "colab": {
          "base_uri": "https://localhost:8080/",
          "height": 410
        },
        "id": "v7NcjJwEwsCX",
        "outputId": "22f1deab-4797-4c9a-a43b-4ebf07e62e88"
      },
      "execution_count": 30,
      "outputs": [
        {
          "output_type": "display_data",
          "data": {
            "text/plain": [
              "<Figure size 1000x400 with 2 Axes>"
            ],
            "image/png": "[encoded data removed]"
          },
          "metadata": {}
        }
      ]
    },
    {
      "cell_type": "markdown",
      "source": [
        "Guadar modelo y artefactos"
      ],
      "metadata": {
        "id": "c8Myr2MdAfxD"
      }
    },
    {
      "cell_type": "code",
      "source": [
        "\n",
        "MODEL_PATH = \"iris_pytorch_model.pt\"\n",
        "torch.save({\n",
        "    \"model_state\": model.state_dict(),\n",
        "    \"scaler\": scaler,   # WARNING: scaler is a sklearn object; puede guardarse con joblib en producción\n",
        "    \"feature_names\": feature_names,\n",
        "    \"target_names\": list(target_names)\n",
        "}, MODEL_PATH)\n",
        "print(\"Saved model to\", MODEL_PATH)"
      ],
      "metadata": {
        "colab": {
          "base_uri": "https://localhost:8080/"
        },
        "id": "WJ_Vjnq3wr3y",
        "outputId": "0b1957f2-bf7c-4d39-b4c2-34754f34bf69"
      },
      "execution_count": 31,
      "outputs": [
        {
          "output_type": "stream",
          "name": "stdout",
          "text": [
            "Saved model to iris_pytorch_model.pt\n"
          ]
        }
      ]
    }
  ]
}